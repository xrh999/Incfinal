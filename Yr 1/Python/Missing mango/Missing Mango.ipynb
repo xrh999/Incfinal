{
 "cells": [
  {
   "cell_type": "code",
   "execution_count": 7,
   "metadata": {},
   "outputs": [
    {
     "data": {
      "text/plain": [
       "1"
      ]
     },
     "execution_count": 7,
     "metadata": {},
     "output_type": "execute_result"
    }
   ],
   "source": [
    "\n",
    "fin = open(\"manin.txt\", \"r\")\n",
    "line = fin.readline().strip()\n",
    "numbers = [int(num) for num in line.split()]\n",
    "\n",
    "fin.close()\n",
    "\n",
    "\n",
    "a_location = numbers[0]\n",
    "b_location = numbers[1]\n",
    "a_distance = numbers[2]\n",
    "b_distance = numbers[3]\n",
    "\n",
    "# a1 = a_location + a_distance\n",
    "# a2 = a_location - a_distance\n",
    "# b1 = b_distance + b_location\n",
    "# b2 = b_location - b_distance\n",
    "# print(a1,a2,b1,b2)\n",
    "\n",
    "if a_location + a_distance==b_distance + b_location:\n",
    "    ans = a_location + a_distance\n",
    "elif a_location + a_distance==b_location - b_distance:\n",
    "    ans = a_location + a_distance\n",
    "elif a_location - a_distance==b_distance + b_location:\n",
    "    ans = a_location - a_distance\n",
    "elif a_location - a_distance==b_location - b_distance:\n",
    "    ans = a_location - a_distance\n",
    "\n",
    "ans = str(ans)\n",
    "fout = open(\"manout.txt\", \"w\")\n",
    "fout.write(ans)\n"
   ]
  },
  {
   "cell_type": "code",
   "execution_count": null,
   "metadata": {},
   "outputs": [],
   "source": [
    "`fin = open(\"data_in.txt\",\"r\")`  \n",
    "`length, width = fin.readline().split()  #read one line, then split them up based on whitespace`  \n",
    "`fin.close()`  \n",
    "`length = int(length)  # converting both values`  \n",
    "`width = int(width)    # to integer data type`  \n",
    "`answer = length * width`  \n",
    "`fout = open(\"data_out.txt\",\"w\")`  \n",
    "`fout.write(str(answer)) #convert answer to string data type`  \n",
    "`fout.close()`   "
   ]
  },
  {
   "cell_type": "code",
   "execution_count": 28,
   "metadata": {},
   "outputs": [
    {
     "name": "stdout",
     "output_type": "stream",
     "text": [
      "40\n"
     ]
    }
   ],
   "source": [
    "\n",
    "def find_mango_location(Ix, Cx, Id, Cd):\n",
    "    # Compute all possible positions of the mango\n",
    "    possible_locations = set([\n",
    "        Ix + Id,\n",
    "        Ix - Id,\n",
    "        Cx + Cd,\n",
    "        Cx - Cd\n",
    "    ])\n",
    "    \n",
    "    # Check which of these possible locations satisfies both distance constraints\n",
    "    for location in possible_locations:\n",
    "        if abs(location - Ix) == Id and abs(location - Cx) == Cd:\n",
    "            return location\n",
    "\n",
    "# Read input\n",
    "# Ix, Cx, Id, Cd = map(int, input().strip().split())\n",
    "\n",
    "\n",
    "\n",
    "fin = open(\"manin.txt\", \"r\")\n",
    "line = fin.readline().strip()\n",
    "numbers = [int(num) for num in line.split()]\n",
    "Ix = numbers[0]\n",
    "Cx = numbers[1]\n",
    "Id = numbers[2]\n",
    "Cd = numbers[3]\n",
    "fin.close()\n",
    "\n",
    "# Output the location of the mango\n",
    "\n",
    "# ans = str(ans)\n",
    "fout = open(\"manout.txt\", \"w\")\n",
    "fout.write(str(find_mango_location(Ix, Cx, Id, Cd)))\n",
    "print(find_mango_location(Ix, Cx, Id, Cd))\n"
   ]
  },
  {
   "cell_type": "code",
   "execution_count": null,
   "metadata": {},
   "outputs": [],
   "source": [
    "def read_inputs(file_name):\n",
    "    try:\n",
    "        with open(file_name, 'r') as file:\n",
    "            line = file.readline().strip()\n",
    "        return [int(value) for value in line.split()]\n",
    "    except Exception as e:\n",
    "        print(f\"Error reading file {file_name}: {e}\")\n",
    "        return [0, 0, 0, 0]  # Default values if reading fails\n",
    " \n",
    "# Read the integers from the file\n",
    "ix, cx, id, cd = read_inputs('manin.txt')\n",
    " \n",
    "diff_cx_cd = cx - cd\n",
    "sum_cx_cd = cx + cd\n",
    "diff_ix_id = ix - id\n",
    "sum_ix_id = ix + id\n",
    " \n",
    "output = []\n",
    " \n",
    "if (cd == 0) or (id == 0):\n",
    "    if cd == 0:\n",
    "        output.append(str(cx))\n",
    "    if id == 0:\n",
    "        output.append(str(ix))\n",
    " \n",
    "if diff_cx_cd == diff_ix_id:\n",
    "    output.append(str(diff_cx_cd))\n",
    "elif sum_cx_cd == sum_ix_id:\n",
    "    output.append(str(sum_cx_cd))\n",
    "elif sum_cx_cd == diff_ix_id:\n",
    "    output.append(str(sum_cx_cd))\n",
    "elif diff_cx_cd == sum_ix_id:\n",
    "    output.append(str(diff_cx_cd))\n",
    " \n",
    "try:\n",
    "    with open('manout.txt', 'w') as file:\n",
    "        file.write('\\n'.join(output))\n",
    "except Exception as e:\n",
    "    print(f\"Error writing to file manout.txt: {e}\")"
   ]
  }
 ],
 "metadata": {
  "kernelspec": {
   "display_name": "Python 3",
   "language": "python",
   "name": "python3"
  },
  "language_info": {
   "codemirror_mode": {
    "name": "ipython",
    "version": 3
   },
   "file_extension": ".py",
   "mimetype": "text/x-python",
   "name": "python",
   "nbconvert_exporter": "python",
   "pygments_lexer": "ipython3",
   "version": "3.12.4"
  }
 },
 "nbformat": 4,
 "nbformat_minor": 2
}
