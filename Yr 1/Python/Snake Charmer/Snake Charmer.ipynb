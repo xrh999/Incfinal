{
 "cells": [
  {
   "cell_type": "code",
   "execution_count": null,
   "metadata": {},
   "outputs": [
    {
     "name": "stdout",
     "output_type": "stream",
     "text": [
      "40\n"
     ]
    }
   ],
   "source": [
    "fin = open(\"snakein.txt\", \"r\")\n",
    "line = fin.readline().strip()\n",
    "numbers = [int(num) for num in line.split()]\n",
    "fin.close()\n",
    "\n",
    "\n",
    "cords = [0,0]\n",
    "inp = numbers\n",
    "lis = 0\n",
    "directions = \"\"\n",
    "if cords[0] != inp[0] and cords[0] < inp[0]:\n",
    "    directions+=(\"R\")\n",
    "    lis = cords[0]\n",
    "    lis += 1\n",
    "    cords[0] = lis\n",
    "    lis -= 1\n",
    "elif cords != inp :\n",
    "    directions+=(\"L\")\n",
    "    lis = cords[0]\n",
    "    lis -= 1\n",
    "    cords[0] = lis\n",
    "    lis += 1\n",
    "while cords != inp : \n",
    "    if cords[1] != inp[1] and cords[1] < inp[1]:\n",
    "        if lis > cords[0] :\n",
    "            directions+=(\"R\")\n",
    "        else :\n",
    "            directions+=(\"L\")\n",
    "        lis = cords[1]\n",
    "        lis += 1\n",
    "        cords[1] = lis\n",
    "        lis -= 1\n",
    "    elif cords != inp :\n",
    "        if lis > cords[0] :\n",
    "            directions+=(\"L\")\n",
    "        else :\n",
    "            directions+=(\"R\")\n",
    "        lis = cords[1]\n",
    "        lis -= 1\n",
    "        cords[1] = lis\n",
    "        lis += 1 \n",
    "    if cords[0] != inp[0] and cords[0] < inp[0]:\n",
    "        if lis < cords[1] :\n",
    "            directions+=(\"R\")\n",
    "        else :\n",
    "            directions+=(\"L\")\n",
    "        lis = cords[0]\n",
    "        lis += 1\n",
    "        cords[0] = lis\n",
    "        lis -= 1\n",
    "    elif cords != inp :\n",
    "        if lis < cords[1] :\n",
    "            directions+=(\"L\")\n",
    "        else :\n",
    "            directions+=(\"R\")\n",
    "        lis = cords[0]\n",
    "        lis -= 1\n",
    "        cords[0] = lis\n",
    "        lis += 1\n",
    "\n",
    "\n",
    "directions = str(directions)\n",
    "fout = open(\"snakeout.txt\", \"w\")\n",
    "fout.write(directions)"
   ]
  },
  {
   "cell_type": "code",
   "execution_count": 2,
   "metadata": {},
   "outputs": [
    {
     "name": "stdout",
     "output_type": "stream",
     "text": [
      "aa\n"
     ]
    }
   ],
   "source": [
    "a = (\"a\")\n",
    "a += a\n",
    "print(a)"
   ]
  }
 ],
 "metadata": {
  "kernelspec": {
   "display_name": "Python 3",
   "language": "python",
   "name": "python3"
  },
  "language_info": {
   "codemirror_mode": {
    "name": "ipython",
    "version": 3
   },
   "file_extension": ".py",
   "mimetype": "text/x-python",
   "name": "python",
   "nbconvert_exporter": "python",
   "pygments_lexer": "ipython3",
   "version": "3.12.4"
  }
 },
 "nbformat": 4,
 "nbformat_minor": 2
}
