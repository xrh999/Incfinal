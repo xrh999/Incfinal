{
 "cells": [
  {
   "cell_type": "code",
   "execution_count": null,
   "metadata": {},
   "outputs": [],
   "source": []
  },
  {
   "cell_type": "code",
   "execution_count": 45,
   "metadata": {},
   "outputs": [
    {
     "name": "stdout",
     "output_type": "stream",
     "text": [
      "[3, 1, 7, 4, 2]\n",
      "[2, 1, 3, 1, 1]\n",
      "[1, 2, 2, 1, 8]\n",
      "[2, 2, 1, 5, 8]\n",
      "[2, 1, 4, 4, 4]\n",
      "[5, 7, 2, 5, 1]\n"
     ]
    }
   ],
   "source": [
    "# fin = open(\"/Users/Glenn/Desktop/file/python stuff/VSCode stuff (visual studio code)/data_in.txt\", \"r\")\n",
    "# # mod r for read w for write a for append\n",
    "# #.read()\n",
    "# # row , col = [int(x) for x in fin.readline().split]\n",
    "# row, col = fin.readline().split()\n",
    "# row = int(row)\n",
    "# col = int(col)\n",
    "# grid = []\n",
    "# for i in range(row):\n",
    "#     temp_row = [int(x) for x in fin.readline().split()]\n",
    "#     grid.append(temp_row)\n",
    "# fin.close()\n",
    "# for i in grid:\n",
    "#     print(i)\n",
    "# sol = row + col\n",
    "# fout = open(\"data_out.txt\",\"w\")\n",
    "# fout.write(str(sol)+\"\\n\")\n",
    "# fout.write(\"15\")\n",
    "# 1fout.close()\n"
   ]
  },
  {
   "cell_type": "code",
   "execution_count": 83,
   "metadata": {},
   "outputs": [
    {
     "name": "stdout",
     "output_type": "stream",
     "text": [
      "[3, 1, 7, 4, 2]\n",
      "[2, 1, 3, 1, 1]\n",
      "[1, 2, 2, 1, 8]\n",
      "[2, 2, 1, 5, 8]\n",
      "[2, 1, 4, 4, 4]\n",
      "[5, 7, 2, 5, 1]\n",
      "0\n",
      "1\n",
      "2\n",
      "3\n",
      "4\n",
      "5\n"
     ]
    }
   ],
   "source": [
    "fin = open(\"/Users/Glenn/Desktop/file/python stuff/VSCode stuff (visual studio code)/data_in.txt\", \"r\")\n",
    "row, col = fin.readline().split()\n",
    "row = int(row)\n",
    "col = int(col)\n",
    "grid = []\n",
    "for i in range(row):\n",
    "    temp_row = [int(x) for x in fin.readline().split()]\n",
    "    grid.append(temp_row)\n",
    "fin.close()\n",
    "for i in grid:\n",
    "    print(i)\n",
    "\n",
    "result = [[]]\n",
    "\n",
    "for r in range(1,row):\n",
    "    for c in range(col):\n",
    "        mid = grid[r-1][c]\n",
    "        if c == 0:\n",
    "            right = grid[r-1][c]\n",
    "            grid[r][c]+=max(mid,right)\n",
    "        elif c == (col=1):\n",
    "            left = grid[r-1][c-1]\n",
    "            grid[r][c] += max(mid, left)\n",
    "        else:\n",
    "            left=grid[r-1][c-1]\n",
    "            grid[r][c]+= max(left,mid,right)"
   ]
  }
 ],
 "metadata": {
  "kernelspec": {
   "display_name": "Python 3",
   "language": "python",
   "name": "python3"
  },
  "language_info": {
   "codemirror_mode": {
    "name": "ipython",
    "version": 3
   },
   "file_extension": ".py",
   "mimetype": "text/x-python",
   "name": "python",
   "nbconvert_exporter": "python",
   "pygments_lexer": "ipython3",
   "version": "3.12.4"
  }
 },
 "nbformat": 4,
 "nbformat_minor": 2
}
