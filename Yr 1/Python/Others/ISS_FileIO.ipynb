{
 "cells": [
  {
   "cell_type": "markdown",
   "id": "354f0b50-b15a-4a43-900b-c5f45551ee6d",
   "metadata": {},
   "source": [
    "### Read(I) and Write(O) Text File using Python\n",
    "\n",
    "For any file IO operations, you must first open the file.  \n",
    " **Syntax**  \n",
    "`open(file, mode='r', buffering=-1, encoding=None, errors=None, newline=None, closefd=True, opener=None)`  \n",
    "- *file* is a path-like object giving the pathname (absolute or relative to the current working directory) of the file to be opened or an integer file descriptor of the file to be wrapped. E.g. \"data.txt\", \"c:\\documents\\data.txt\", \"/Users/John/Documents/data.txt\"\n",
    "- *mode* is an optional string that specifies the mode in which the file is opened. It defaults to 'r' which means open for reading in text mode. Other modes include:\n",
    "|Character|Description|\n",
    "|---|---|\n",
    "|'r'|open for reading (default)|\n",
    "|'w'|open for writing, truncating the file first|\n",
    "|'a'|open for writing, appending to the end of file if it exists|\n",
    "\n",
    "Examples: Open a file for reading  \n",
    "- text file is in the same folder as your python program file (.ipynb, .py etc)\n",
    "> `fin = open(\"data_in.txt\", \"r\")`\n",
    "- text file is in documents folder in c drive (PC)\n",
    "> `fin = open(\"c:\\documents\\data_in.txt\",\"r\")`\n",
    "- text file is in the documents folder (MAC)\n",
    "> `fin = open(\"/Users/John/Documents/data_in.txt\",\"r\")`\n",
    "\n",
    "Examples: Open a file for writing  \n",
    "- text file is in the same folder, or you wish to create the text file in the same folder as your python program file\n",
    "> `fout = open(\"data_out.txt\",\"w\")`\n",
    "\n",
    "After all file operations are concluded, you must close the file.  \n",
    "**Syntax**  \n",
    "`.close()`  \n",
    "Example:  \n",
    "- `fin.close()`\n",
    "- `fout.close()` "
   ]
  },
  {
   "cell_type": "markdown",
   "id": "0181f963-3742-4598-854c-24b1bdc319ea",
   "metadata": {},
   "source": [
    "### File IO methods\n",
    "1. `.read()` Returns the entire text file (including newline characters) as a str. \n",
    "2. `.readline()` Returns the next line from the text file (including a newline character at the end, if present) or an empty str if already at the end of the file. \n",
    "3. `.readlines()` Returns a list of all the lines in the text file. Each line includes a newline character at the end, if present. \n",
    "4. `.write(str)` Writes the string argument into the text file. Does not automatically add a newline character.\n",
    "\n",
    "**Important Note**  \n",
    "- All the `read()`, `readline()`, `readlines()` methods will return the data as string. You must remember to cast them into appropriate data type to ensure your program will not crash or give incorrect answer.\n",
    "- `write(str)` method requires the parameter to be a string data type, otherwise the program will inccur an run-time error.\n",
    "\n",
    "Examples: Read in two number repsenting length and width in the same line (e.g. 6 5) from *data_in.txt*. Multiple both numbers and write to *data_out.txt*.  \n",
    "`fin = open(\"data_in.txt\",\"r\")`  \n",
    "`length, width = fin.readline().split()  #read one line, then split them up based on whitespace`  \n",
    "`fin.close()`  \n",
    "`length = int(length)  # converting both values`  \n",
    "`width = int(width)    # to integer data type`  \n",
    "`answer = length * width`  \n",
    "`fout = open(\"data_out.txt\",\"w\")`  \n",
    "`fout.write(str(answer)) #convert answer to string data type`  \n",
    "`fout.close()`   "
   ]
  }
 ],
 "metadata": {
  "kernelspec": {
   "display_name": "Python 3 (ipykernel)",
   "language": "python",
   "name": "python3"
  },
  "language_info": {
   "codemirror_mode": {
    "name": "ipython",
    "version": 3
   },
   "file_extension": ".py",
   "mimetype": "text/x-python",
   "name": "python",
   "nbconvert_exporter": "python",
   "pygments_lexer": "ipython3",
   "version": "3.8.18"
  }
 },
 "nbformat": 4,
 "nbformat_minor": 5
}
