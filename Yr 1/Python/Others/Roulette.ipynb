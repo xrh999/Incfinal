{
 "cells": [
  {
   "cell_type": "code",
   "execution_count": null,
   "metadata": {
    "vscode": {
     "languageId": "plaintext"
    }
   },
   "outputs": [],
   "source": [
    "import random\n",
    "\n",
    "\n",
    "\n",
    "def str_xor(secret, key):\n",
    "    #extend key to secret length\n",
    "    new_key = key\n",
    "    i = 0\n",
    "    while len(new_key) < len(secret):\n",
    "        new_key = new_key + key[i]\n",
    "        i = (i + 1) % len(key)        \n",
    "    return \"\".join([chr(ord(secret_c) ^ ord(new_key_c)) for (secret_c,new_key_c) in zip(secret,new_key)])\n",
    "\n",
    "\n",
    "flag_enc = chr(0x15) + chr(0x07) + chr(0x08) + chr(0x06) + chr(0x27) + chr(0x21) + chr(0x23) + chr(0x15) + chr(0x5f) + chr(0x05) + chr(0x08) + chr(0x2a) + chr(0x1c) + chr(0x5e) + chr(0x1e) + chr(0x1b) + chr(0x3b) + chr(0x17) + chr(0x51) + chr(0x5b) + chr(0x58) + chr(0x5c) + chr(0x3b) + chr(0x4c) + chr(0x06) + chr(0x5d) + chr(0x09) + chr(0x5e) + chr(0x00) + chr(0x41) + chr(0x01) + chr(0x13)\n",
    "\n",
    "\n",
    "num = random.choice(range(10,101))\n",
    "\n",
    "print('If ' + str(num) + ' is in decimal base, what is it in binary base?')\n",
    "\n",
    "ans = input('Answer: ')\n",
    "\n",
    "try:\n",
    "  ans_num = int(ans, base=2)\n",
    "  \n",
    "  if ans_num == num:\n",
    "    flag = str_xor(flag_enc, 'enkidu')\n",
    "    print('That is correct! Here\\'s your flag: ' + flag)\n",
    "  else:\n",
    "    print(str(ans_num) + ' and ' + str(num) + ' are not equal.')\n",
    "  \n",
    "except ValueError:\n",
    "  print('That isn\\'t a binary number. Binary numbers contain only 1\\'s and 0\\'s')\n"
   ]
  }
 ],
 "metadata": {
  "kernelspec": {
   "display_name": "Python 3",
   "language": "python",
   "name": "python3"
  },
  "language_info": {
   "codemirror_mode": {
    "name": "ipython",
    "version": 3
   },
   "file_extension": ".py",
   "mimetype": "text/x-python",
   "name": "python",
   "nbconvert_exporter": "python",
   "pygments_lexer": "ipython3",
   "version": "3.12.4"
  }
 },
 "nbformat": 4,
 "nbformat_minor": 2
}
