{
 "cells": [
  {
   "cell_type": "markdown",
   "id": "6287f7fb-97c7-4dc2-8483-555a920912b1",
   "metadata": {},
   "source": [
    "## Dynamic Programming\n",
    "\n",
    "### What is Dynamic Programming?\n",
    "Define DP as a method for solving complex problems by breaking them down into simpler subproblems and storing the solutions to these subproblems to avoid redundant work.\n",
    "  \n",
    "### Key Concepts\n",
    "1. **Overlapping Subproblems**: Problem can be divided into subproblems which are solved independently and their results are reused.\n",
    "2. **Optimal Substructure**: The solution to a problem depends on solutions to its subproblems.\n",
    "3. **Memoization vs Tabulation**: Key approaches to dynamic programming.\n",
    "    - **Memoization**: Top-down approach, store results in a dictionary or list.\n",
    "    - **Tabulation**: Bottom-up approach, fill a DP table."
   ]
  },
  {
   "cell_type": "markdown",
   "id": "d915122b-0889-4c6c-a7bc-dddfa775ebd2",
   "metadata": {},
   "source": [
    "### Problem Solving Using Dynamic Programming  \n",
    "\n",
    "1. **Problem 1: Fibonacci Sequence**\n",
    "\n",
    "    - **Recursive Solution**:\n",
    "        ```python\n",
    "        def fibonacci(n):\n",
    "            if n <= 1:\n",
    "                return n\n",
    "            return fibonacci(n-1) + fibonacci(n-2)\n",
    "          \n",
    "        ```\n",
    "    - **Problem with Recursion**: It’s inefficient due to redundant calls.\n",
    "   \n",
    "    - **Memoization**: Using a dictionary to store previously solved sub-problem increase efficiency and reduce run-time.\n",
    "      ```python\n",
    "        memo = { } #empty dictionary\n",
    "        def fibonacci_memo(n):\n",
    "            if n <= 1:\n",
    "                return n\n",
    "            if n not in memo:\n",
    "                memo[n] = fibonacci_memo(n-1) + fibonacci_memo(n-2)\n",
    "            return memo[n]\n",
    "          \n",
    "        ```\n",
    "\n",
    "3. **Problem 2: Coin Change Problem (Classic DP Problem)**\n",
    "    - **Description**: Given a set of coins, find the minimum number of coins needed to make a given amount.\n",
    "    - **Greedy Solution**\n",
    "        ```python\n",
    "        def coin_change_greedy(coins, amount):\n",
    "            coins.sort(reverse = True)\n",
    "            total_coins = 0\n",
    "            for value in coins:\n",
    "                if amount >= value:\n",
    "                    n = amount // value\n",
    "                    total_coins += n\n",
    "                    amount -= n*value\n",
    "            return total_coins\n",
    "          \n",
    "        ```\n",
    "    - **Problems with Greedy solution**: Will not give the correct solution when given non-standardise coin values. E.g. coins = `[1, 7, 10]`, amount = `14`\n",
    "                    \n",
    "  - **Solution (Top-down with Memoization)**: For every `amount`, we will run through all the `coin_values`, and recur, with `amount - coin_values`. But instead of solving everything again, we will save the optimised solution for `amount`."
   ]
  }
 ],
 "metadata": {
  "kernelspec": {
   "display_name": "Python 3 (ipykernel)",
   "language": "python",
   "name": "python3"
  },
  "language_info": {
   "codemirror_mode": {
    "name": "ipython",
    "version": 3
   },
   "file_extension": ".py",
   "mimetype": "text/x-python",
   "name": "python",
   "nbconvert_exporter": "python",
   "pygments_lexer": "ipython3",
   "version": "3.12.5"
  }
 },
 "nbformat": 4,
 "nbformat_minor": 5
}
