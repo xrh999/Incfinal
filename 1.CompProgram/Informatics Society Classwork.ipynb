{
 "cells": [
  {
   "cell_type": "markdown",
   "id": "a2245756-3e03-40ef-a853-abca30a45d00",
   "metadata": {},
   "source": [
    "# Tuple\n",
    "Tuples are immutable sequences, typically used to store collections of heterogeneous data (such as the 2-tuples produced by the `enumerate()` built-in). Tuples are also used for cases where an immutable sequence of homogeneous data is needed (such as allowing storage in a set or dict instance)."
   ]
  },
  {
   "cell_type": "code",
   "execution_count": null,
   "id": "0264fac1-e089-4948-8b06-636f3e18f347",
   "metadata": {},
   "outputs": [],
   "source": [
    "# A tuple consists of a number of values separated by commas, for instance:\n",
    "t1 = \"Edward\", \"Tan\"\n",
    "print(t1)\n",
    "\n",
    "t2 = (10, 20, 30) #you can create a tuple using parantheses as well\n",
    "print(t2)\n"
   ]
  },
  {
   "cell_type": "code",
   "execution_count": null,
   "id": "beac9d49-7d96-4271-acf5-bda7e205203a",
   "metadata": {},
   "outputs": [],
   "source": [
    "# items inside tuple cannot be change\n",
    "print(t2[1])\n",
    "t2[1] = 35"
   ]
  },
  {
   "cell_type": "markdown",
   "id": "65854872-4b2f-4560-bcc5-2e6d3d0144bc",
   "metadata": {},
   "source": [
    "### Tuple vs List\n",
    "Though tuples may seem similar to lists, they are often used in different situations and for different purposes. Tuples are immutable, and usually contain a heterogeneous sequence of elements that are accessed via unpacking (see later in this section)."
   ]
  },
  {
   "cell_type": "markdown",
   "id": "e982247d-f254-48cc-a74d-cd36c0a95de2",
   "metadata": {},
   "source": [
    "### Unpacking Tuple\n",
    "Values of a tuple can be unpack into individual variables using the assignment operator."
   ]
  },
  {
   "cell_type": "code",
   "execution_count": null,
   "id": "9b36859f-2496-4118-9dfd-033d859b1e05",
   "metadata": {},
   "outputs": [],
   "source": [
    "# Unpacking Tuple\n",
    "t = 13, 17, 23\n",
    "print(t)\n",
    "a, b, c = t\n",
    "print(a, b, c)"
   ]
  },
  {
   "cell_type": "markdown",
   "id": "3c1f6704-eb7d-4666-bca9-407408e21d83",
   "metadata": {},
   "source": [
    "# Set\n",
    "A set is an unordered collection with no duplicate elements. Basic uses include membership testing and eliminating duplicate entries. Set objects also support mathematical operations like union, intersection, difference, and symmetric difference."
   ]
  },
  {
   "cell_type": "markdown",
   "id": "3bcd8f72-63c6-4edd-a3f7-6d2ba6d69cb0",
   "metadata": {},
   "source": [
    "### Creating Set\n",
    "Curly braces or the set() function can be used to create sets. Note: to create an empty set you have to use set(), not {}; the latter creates an empty dictionary, a data structure that we discuss in the next section."
   ]
  },
  {
   "cell_type": "code",
   "execution_count": null,
   "id": "d16d09bb-9251-40e7-8c6c-4f57df2dfbd2",
   "metadata": {},
   "outputs": [],
   "source": [
    "basket = {'apple', 'orange', 'apple', 'pear', 'orange', 'banana'}\n",
    "print(basket)\n",
    "\n",
    "names = ['Peter', 'John', 'Mary', 'Peter', 'Joanne', 'Roy', 'John']\n",
    "n_set = set(names) #converting a list into a set\n",
    "print(n_set)"
   ]
  },
  {
   "cell_type": "code",
   "execution_count": null,
   "id": "aa6b0a6c-f9a3-4229-93bd-e36ee51e438f",
   "metadata": {},
   "outputs": [],
   "source": [
    "a = set('abracadabra')\n",
    "b = set('alacazam')\n",
    "\n",
    "print(a)          # unique letters in a\n",
    "\n",
    "print(a - b)      # letters in a but not in b\n",
    "\n",
    "print(a | b)      # letters in a or b or both\n",
    "\n",
    "print(a & b)      # letters in both a and b\n",
    "\n",
    "print(a ^ b )     # letters in a or b but not both\n",
    " "
   ]
  },
  {
   "cell_type": "code",
   "execution_count": null,
   "id": "03861af2-aaa7-4696-9bef-728d5c2f66a2",
   "metadata": {},
   "outputs": [],
   "source": []
  }
 ],
 "metadata": {
  "kernelspec": {
   "display_name": "Python 3 (ipykernel)",
   "language": "python",
   "name": "python3"
  },
  "language_info": {
   "codemirror_mode": {
    "name": "ipython",
    "version": 3
   },
   "file_extension": ".py",
   "mimetype": "text/x-python",
   "name": "python",
   "nbconvert_exporter": "python",
   "pygments_lexer": "ipython3",
   "version": "3.12.5"
  }
 },
 "nbformat": 4,
 "nbformat_minor": 5
}
