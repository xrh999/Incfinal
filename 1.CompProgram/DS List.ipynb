{
 "cells": [
  {
   "cell_type": "markdown",
   "id": "cb6a0955-f2ff-42a1-807f-c1f686c573b9",
   "metadata": {},
   "source": [
    "# Lists\n",
    "\n",
    "Lists are mutable sequences, typically used to store collections of homogeneous items (where the precise degree of similarity will vary by application)."
   ]
  },
  {
   "cell_type": "markdown",
   "id": "e1036bf3-b43c-46bc-8089-12ee93c848ce",
   "metadata": {},
   "source": [
    "### List Literals\n",
    "List literals are written within square brackets [ ]. Lists work similarly to strings -- use the len() function and square brackets [ ] to access data, with the first element at index 0."
   ]
  },
  {
   "cell_type": "code",
   "execution_count": null,
   "id": "04f79a73-7414-4f8a-a8e5-1025545d59a6",
   "metadata": {},
   "outputs": [],
   "source": [
    "# creating an empty list\n",
    "mylist = [ ] \n",
    "\n",
    "# creating a list with 7 items\n",
    "colours = ['red', 'orange', 'yellow', 'green', 'blue', 'indigo', 'violet']\n",
    "\n",
    "print(colours[0])  # red\n",
    "print(colours[3])  # green\n",
    "print(colours[-1]) # violet"
   ]
  },
  {
   "cell_type": "code",
   "execution_count": null,
   "id": "3f331467-4ba1-4c3c-949f-160785665fab",
   "metadata": {},
   "outputs": [],
   "source": [
    "# creating a list of repeat items\n",
    "numberlist = [0] * 10\n",
    "print(numberlist)"
   ]
  },
  {
   "cell_type": "markdown",
   "id": "27e05507-3ce9-4b3b-a0d5-3a3f651df02e",
   "metadata": {},
   "source": [
    "### Traversing through a List\n",
    "To visit each element in order of sequence.\n",
    "\n",
    "`for items in listname:`  \n",
    "Use the above when its is not required to know the position index of items.  \n",
    "\n",
    "`for index in range(len(listname)):`\n",
    "Use this code when the index position of item is required"
   ]
  },
  {
   "cell_type": "code",
   "execution_count": null,
   "id": "9040b603-8c2d-43c6-b827-833596d879a0",
   "metadata": {},
   "outputs": [],
   "source": [
    "target = \"blue\"\n",
    "\n",
    "for item in colours:\n",
    "    if item == target:\n",
    "        print(f\"{target} found in the list.\")\n",
    "\n",
    "\n",
    "for i in range(len(colours)):\n",
    "    if colours[i] == target:\n",
    "        print(f\"{target} is found at position {i}\")"
   ]
  },
  {
   "cell_type": "markdown",
   "id": "8c60172e-b3eb-4a3a-a6b0-a906ec528f7f",
   "metadata": {},
   "source": [
    "### Common List Operations\n",
    "\n",
    "| Operation | Result |\n",
    "|---|---|\n",
    "|x in list1 | True if an item of list1 is equal to x, else False|\n",
    "|x not in list1 | False if an item of list1 is equal to x, else True|\n",
    "|list1 + list2|the concatenation of list1 and list2|\n",
    "|list1 * n or n * list1|equivalent to adding list1 to itself n times|\n",
    "|list1[i]|i-th item of s, origin 0|\n",
    "|list1[i:j]|slice of list1 from i to j|\n",
    "|list1[i:j:k]|slice of list1 from i to j with step k|\n",
    "|len(list1)|length of list1|\n",
    "|min(list1)|smallest item of list1|\n",
    "|max(list1)|largest item of list1|\n",
    "|list1.index(x[, i[, j]])|index of the first occurrence of x in list1 (at or after index i and before index j)|\n",
    "|list1.count(x)|total number of occurrences of x in list1|\n",
    "\n"
   ]
  },
  {
   "cell_type": "markdown",
   "id": "e439336a-cc7a-49ef-830a-4db2ca918f99",
   "metadata": {},
   "source": [
    "### List Methods\n",
    "Common list methods\n",
    "\n",
    "`list.append(x)`  \n",
    "Add an item to the end of the list. \n",
    "\n",
    "`list.extend(list2)`  \n",
    "Extend the list by appending all the items from the list2. \n",
    "\n",
    "`list.insert(i, x)`  \n",
    "Insert an item at a given position. The first argument is the index of the element before which to insert, so `a.insert(0, x)` inserts at the front of the list.\n",
    "\n",
    "`list.remove(x)`  \n",
    "Remove the first item from the list whose value is equal to x. It raises a ValueError if there is no such item.\n",
    "\n",
    "`list.pop([i])`  \n",
    "Remove the item at the given position in the list, and return it. If no index is specified, a.pop() removes and returns the last item in the list. It raises an IndexError if the list is empty or the index is outside the list range.\n",
    "\n",
    "`list.clear()`  \n",
    "Remove all items from the list. Similar to `del a[:]`.\n",
    "\n",
    "`list.index(x[, start[, end]])`  \n",
    "Return zero-based index in the list of the first item whose value is equal to x. Raises a ValueError if there is no such item.\n",
    "\n",
    "The optional arguments start and end are interpreted as in the slice notation and are used to limit the search to a particular subsequence of the list. The returned index is computed relative to the beginning of the full sequence rather than the start argument.\n",
    "\n",
    "`list.count(x)`  \n",
    "Return the number of times x appears in the list.\n",
    "\n",
    "`list.sort(*, key=None, reverse=False)`  \n",
    "Sort the items of the list in place (the arguments can be used for sort customization, see sorted() for their explanation).\n",
    "\n",
    "`list.reverse()`  \n",
    "Reverse the elements of the list in place.\n"
   ]
  },
  {
   "cell_type": "code",
   "execution_count": 29,
   "id": "9cbcdd9d",
   "metadata": {},
   "outputs": [
    {
     "name": "stdout",
     "output_type": "stream",
     "text": [
      "13\n",
      "10.625\n"
     ]
    }
   ],
   "source": [
    "mydata2 = \"13 2 34 10 6 18 2\"\n",
    "list2 = mydata2.split()\n",
    "list3 = [0]\n",
    "\n",
    "for item in list2:\n",
    "    if item != list3[-1]:\n",
    "        list3.append(int(item))\n",
    "    else:\n",
    "        continue\n",
    "\n",
    "print(list3[0]+list3[1])\n",
    "sortedlist = sorted(list3)\n",
    "temp = 0\n",
    "for i in sortedlist:\n",
    "    temp+=i\n",
    "print(temp/len(sortedlist))\n"
   ]
  },
  {
   "cell_type": "code",
   "execution_count": null,
   "id": "78f88581-6c5e-46d3-a84a-a6c9f00ba1ee",
   "metadata": {},
   "outputs": [],
   "source": [
    "mylist = [24, 65, 12, 17, 33, 79]\n",
    "\n",
    "# add an item to the back of the list\n",
    "mylist.append(44)\n",
    "print(mylist)"
   ]
  },
  {
   "cell_type": "code",
   "execution_count": null,
   "id": "b75c2ffd-8624-4b6a-bb99-58522e2e05e0",
   "metadata": {},
   "outputs": [],
   "source": [
    "# add an item to a particular index\n",
    "mylist.insert(2, 88)\n",
    "print(mylist)"
   ]
  },
  {
   "cell_type": "code",
   "execution_count": null,
   "id": "ce723957-8c02-4823-81a3-679e6e586d74",
   "metadata": {},
   "outputs": [],
   "source": [
    "# delete the last item from list\n",
    "mylist.pop()\n",
    "print(mylist)"
   ]
  },
  {
   "cell_type": "code",
   "execution_count": null,
   "id": "d9c855dc-a928-4319-8114-0aa8a421455f",
   "metadata": {},
   "outputs": [],
   "source": [
    "# delete an item at a particular index\n",
    "mylist.pop(3)\n",
    "print(mylist)"
   ]
  },
  {
   "cell_type": "code",
   "execution_count": null,
   "id": "7f665bb8-08c9-4833-8c48-d36fc1ccaf25",
   "metadata": {},
   "outputs": [],
   "source": [
    "# remove item from list\n",
    "mylist.remove(88)\n",
    "print(mylist)"
   ]
  },
  {
   "cell_type": "code",
   "execution_count": null,
   "id": "82d3f365-c0fc-4586-9945-8afd92b1779b",
   "metadata": {},
   "outputs": [],
   "source": [
    "# sort the list in ascending order\n",
    "mylist.sort()\n",
    "print(mylist)"
   ]
  },
  {
   "cell_type": "markdown",
   "id": "65b927e7-eb6f-415d-bf9a-6350ec03e99d",
   "metadata": {},
   "source": [
    "### Using .split() to create a list of characters / numbers\n",
    "\n",
    "A common practice is to be able to enter all the data in a single line. Reading the input data as a string, then use the method .split() will split the data by the space character."
   ]
  },
  {
   "cell_type": "code",
   "execution_count": null,
   "id": "214195d1-796b-4ec1-b560-c40c59a68c37",
   "metadata": {},
   "outputs": [],
   "source": [
    "mydata1 = \"Edward Tan Yong Seng\"\n",
    "list1 = mydata1.split()\n",
    "print(mydata1)"
   ]
  },
  {
   "cell_type": "code",
   "execution_count": null,
   "id": "41addcf2-6b1f-434f-8d37-ca982f8ee9f2",
   "metadata": {},
   "outputs": [],
   "source": [
    "mydata2 = \"13 34 2 10 6 18\"\n",
    "# split the mydata2 into list2\n",
    "# convert all the items in the list2 into int datatype\n",
    "\n",
    "print([int(x) for x in mydata2.split()]) # list comprehention (can use normal for loops too ig)"
   ]
  },
  {
   "cell_type": "markdown",
   "id": "e008040d-6854-4255-aa09-0d346815908c",
   "metadata": {},
   "source": [
    "### Exercise 1: Potluck\n",
    "Your class is holding a potluck whereby all students are to bring along a small gift for exchange. Each gift has an index number that is similiar to that student's index number.\n",
    "Recipients of the gift are randomly selected. All students cannot be selected for his/her own gift.\n",
    "The class chairperson tracks the gift on a piece of paper.   \n",
    "| Gift Index | Index of Student selected for the Gift |\n",
    "|---|---|\n",
    "| 1 | 6 |\n",
    "| 2 | 4 |\n",
    "| 3 | 5 |\n",
    "| 4 | 3 |\n",
    "| 5 | 1 |\n",
    "| 6 | 2 |  \n",
    "E.g. Student 6 recieved the gift from Student 1  \n",
    "\n",
    "Form Teacher needs a new table showing in the order of students' index and which gift he/she recieved.  \n",
    "| Student Index | Gift Index |\n",
    "|---|---|\n",
    "|1|5|\n",
    "|2|6|\n",
    "|3|4|\n",
    "|4|2|\n",
    "|5|3|\n",
    "|6|1|\n",
    "\n",
    "\n",
    "**Input**  \n",
    "The first input is n, where 2 < n < 2000, number of students.\n",
    "The next n number of input will be the index of student select for $gift_0, gift_1, ..., gift_n$  \n",
    "\n",
    "*Example*  \n",
    "6  \n",
    "6 4 5 3 1 2  \n",
    "\n",
    "**Output**  \n",
    "A sequence of gift index. \n",
    "\n",
    "*Example*  \n",
    "The output for the input above consists of the numbers:  \n",
    "\n",
    "5 6 4 2 3 1"
   ]
  },
  {
   "cell_type": "code",
   "execution_count": null,
   "id": "3cd872eb",
   "metadata": {},
   "outputs": [],
   "source": []
  },
  {
   "cell_type": "code",
   "execution_count": null,
   "id": "30eda767-3ab0-48f7-82c6-98588a64c3b5",
   "metadata": {},
   "outputs": [],
   "source": [
    "## Exercise 1 code\n"
   ]
  },
  {
   "cell_type": "markdown",
   "id": "ee860049-fe78-4513-a81b-816e9f17f20a",
   "metadata": {},
   "source": [
    "### Exercise 2: Zero-Sum\n",
    "Given four lists: A, B, C and D. There exists uniquely one value from each of the lists that sum up to zero.\n",
    "\n",
    "$$\\exists! a \\in A, b \\in B, c \\in C, d \\in D : (a+b+c+d) = 0$$  \n",
    "\n",
    "**Input**  \n",
    "The first line of input contains four numbers, a, b, c, and d, separated by a space\n",
    "character, indicating the number of elements in each of the four sets. Each of these numbers is a positive integer 1 ≤ a, b, c, d ≤ 500. The following a + b + c + d lines contain the elements, where −10000 <= elements <= 10000. The elements of the first set are listed first, followed by the elements of the second set, etc\n",
    "  \n",
    "*Example*  \n",
    "3 2 4 2  \n",
    "5  \n",
    "17  \n",
    "-8  \n",
    "-13  \n",
    "19  \n",
    "6  \n",
    "-9  \n",
    "10  \n",
    "0  \n",
    "-14  \n",
    "7  \n",
    "\n",
    "**Output**  \n",
    "The output consists of the four integers, separated by a space character. The numbers must appear in the order in which they are listed in the input file.  \n",
    "\n",
    "*Example*  \n",
    "The output for the input above consists of the numbers:  \n",
    "17 -13 10 -14  "
   ]
  },
  {
   "cell_type": "code",
   "execution_count": 40,
   "id": "7148d766-7375-42c9-8d5a-8497cc08e6fb",
   "metadata": {},
   "outputs": [
    {
     "name": "stdout",
     "output_type": "stream",
     "text": [
      "17 -13 10 -14\n"
     ]
    }
   ],
   "source": [
    "# Exercise 2 code\n",
    "A = [5,17,-8,9,1,2,3,45]\n",
    "B = [-13,19]\n",
    "C = [6,-9,10,0]\n",
    "D = [-14,7]\n",
    "for a in A:\n",
    "    for b in B:\n",
    "        for c in C:\n",
    "            for d in D:\n",
    "                if a+b+c+d == 0:\n",
    "                    print(a,b,c,d)"
   ]
  },
  {
   "cell_type": "markdown",
   "id": "171d8392-8f0f-4f88-95c2-98d45bfa5a88",
   "metadata": {},
   "source": [
    "### 2d List\n",
    "2d list is an array that stores values in a matrix form. It is similar to a two-dimensional array in other languages. \n",
    "\n",
    "#### Applications of Python 2D List\n",
    "2d lists are useful for data analysis, image processing and other types of scientific computing. Many scientific libraries such as NumPy and Matplotlib rely on 2d lists to store different datasets and do calculations on them. \n",
    "\n",
    "*Examples of applications (non-exhaustive)*\n",
    "- Game boards\n",
    "- Tabular data\n",
    "- Matrices in Mathematics\n",
    "- Grids\n",
    "- DOM elements in web development\n",
    "- Scientific experiment data"
   ]
  },
  {
   "cell_type": "code",
   "execution_count": null,
   "id": "eabbdcc5-650b-438b-8f53-2f2e3f163b5e",
   "metadata": {},
   "outputs": [],
   "source": [
    "# 2d list literals\n",
    "grid1 = [ [1,2,3], [4,5,6], [7,8,9] ]\n",
    "print(grid1)\n",
    "print()\n",
    "for row in grid1:\n",
    "    print(row)"
   ]
  },
  {
   "cell_type": "code",
   "execution_count": null,
   "id": "bdd02629-78cf-4ee0-b995-7e27aea02df4",
   "metadata": {},
   "outputs": [],
   "source": [
    "# adding a list of columns into the list(of rows)\n",
    "grid2 = [] #empty list fo rows\n",
    "temp = [] \n",
    "for i in range(1,10):\n",
    "    temp.append(i)\n",
    "    if i%3 == 0:\n",
    "        grid2.append(temp)\n",
    "        temp = []\n",
    "\n",
    "print(grid2)"
   ]
  },
  {
   "cell_type": "code",
   "execution_count": null,
   "id": "ba1f40e5",
   "metadata": {},
   "outputs": [
    {
     "name": "stdout",
     "output_type": "stream",
     "text": [
      "[[1, 2, 3, 4, 5, 6, 7, 8, 9], [1, 2, 3, 4, 5, 6, 7, 8, 9], [1, 2, 3, 4, 5, 6, 7, 8, 9]]\n",
      "\n",
      "1 2 3 4 5 6 7 8 9 \n",
      "1 2 3 4 5 6 7 8 9 \n",
      "1 2 3 4 5 6 7 8 9 \n",
      "1 2 3 4 5 6 7 8 9 \n",
      "1 2 3 4 5 6 7 8 9 \n",
      "1 2 3 4 5 6 7 8 9 \n",
      "1 2 3 \n",
      "1 2 3 \n",
      "1 2 3 \n",
      "1 2 3 \n",
      "1 2 3 \n",
      "1 2 3 \n",
      "1 2 3 \n",
      "1 2 3 \n",
      "1 2 3 \n",
      "1 2 3 \n",
      "1 2 3 \n",
      "1 2 3 \n",
      "1 2 3 \n",
      "1 2 3 \n",
      "1 2 3 \n",
      "1 2 3 \n",
      "1 2 3 \n",
      "1 2 3 \n",
      "1 2 3 \n",
      "1 2 3 \n",
      "1 2 3 \n",
      "1 2 3 \n",
      "1 2 3 \n",
      "1 2 3 \n",
      "1 2 3 \n",
      "1 2 3 \n",
      "1 2 3 \n",
      "1 2 3 \n",
      "1 2 3 \n",
      "1 2 3 \n",
      "1 2 3 \n",
      "1 2 3 \n",
      "1 2 3 \n"
     ]
    }
   ],
   "source": []
  },
  {
   "cell_type": "markdown",
   "id": "fa9c108e-184a-447d-86d2-073705f3b303",
   "metadata": {},
   "source": [
    "### Exercise 3: Janitor\n",
    "**Adapted from AIO 2018**  \n",
    "Congratulations! You have been appointed head bathroom janitor of your school! \n",
    "The bathroom floor is covered in a rectangular grid of tiles. No one is watching you very closely, so pouring a bucket of water over the floor is enough to make it look like you cleaned it. There is one small problem. The floor is uneven, so depending on which tile you pour the water on, some tiles may not become wet at all, and your deception will be exposed.\n",
    "Water can flow from any square to any adjacent square of lower height, where adjacent squares\n",
    "may be to the north, south, east or west (water cannot flow across diagonals).\n",
    "To finish your chore as soon as possible, you’ve decided to find out what is the fewest number\n",
    "of tiles you need to pour water on to make sure every tile becomes wet.\n",
    "\n",
    "**Input**  \n",
    "- The first line of input contains two space-separated integers, R and C. There are R\n",
    "rows and C columns of tiles.\n",
    "The next R lines each contain C space-separated integers, giving the initial heights of the\n",
    "tiles. The tradie did such a terrible job at tiling the bathroom that literally no two adjacent tiles have the same height, even after any replacements.\n",
    "\n",
    "*Example Input*  \n",
    "3 4  \n",
    "5 3 2 0  \n",
    "4 8 4 3  \n",
    "5 7 6 1  \n",
    "\n",
    "**Output**  \n",
    "The output should the number of the fewest tiles you need to pour water on to make sure every tile gets wet.\n",
    "\n",
    "*Example Output*  \n",
    "2\n",
    "\n",
    "**Explanation:**  \n",
    "|| | | |\n",
    "|---|---|---|---|\n",
    "|5|3|2|0\n",
    "|4|8|4|3|\n",
    "|5|7|6|1|\n",
    "\n",
    "Water are required to pour on tiles R1C1 and R2C2 to ensure the entire bathroom floor is wet."
   ]
  },
  {
   "cell_type": "code",
   "execution_count": null,
   "id": "e22f1805-a755-41ac-8a6f-de72f13b9e0a",
   "metadata": {},
   "outputs": [],
   "source": []
  }
 ],
 "metadata": {
  "kernelspec": {
   "display_name": "Python 3",
   "language": "python",
   "name": "python3"
  },
  "language_info": {
   "codemirror_mode": {
    "name": "ipython",
    "version": 3
   },
   "file_extension": ".py",
   "mimetype": "text/x-python",
   "name": "python",
   "nbconvert_exporter": "python",
   "pygments_lexer": "ipython3",
   "version": "3.12.4"
  }
 },
 "nbformat": 4,
 "nbformat_minor": 5
}
