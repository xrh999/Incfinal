{
 "cells": [
  {
   "cell_type": "markdown",
   "id": "8f00e2dd-e205-4ee6-8ffb-af9f331ce432",
   "metadata": {},
   "source": [
    "# Recursion\n",
    "\n",
    "Recursion is a process where a function calls itself to solve a problem. It breaks the problem down into smaller instances of the same problem.\n",
    "\n",
    "## Key Terms\n",
    "1. **Base Case**: The condition that stops the recursion.  \n",
    "2. **Recursive Case**: The part where the function continues to call itself.  \n",
    "\n",
    "### Why Use Recursion?\n",
    "Recursion is useful when a problem can be divided into smaller, similar problems. It is often easier to solve problems like tree traversals, factorials, Fibonacci sequences, etc., recursively.\n"
   ]
  },
  {
   "cell_type": "markdown",
   "id": "09298145-d320-4c06-9080-b805941ec5b6",
   "metadata": {},
   "source": [
    "### How Recursion Works\n",
    "\n",
    "**The Recursive Process**  \n",
    "1. The function calls itself with new parameters.\n",
    "2. It continues to call itself until the base case is met.\n",
    "3. Once the base case is reached, the function starts returning values and unwinding the call stack.\n",
    "\n",
    "**Example**  \n",
    "- **Factorial** of `n` is defined as: `n! = n * (n-1) * (n-2) * ... * 1`  \n",
    "i.e. 5! = 5 * 4 * 3 * 2 * 1  \n",
    "which can also be written as 5! = 5 * 4!\n",
    "- **Base case**: `1! = 1`, `0! = 1`"
   ]
  },
  {
   "cell_type": "code",
   "execution_count": 1,
   "id": "3ca7f41d-a488-4615-8b33-176cbf397234",
   "metadata": {},
   "outputs": [
    {
     "name": "stdout",
     "output_type": "stream",
     "text": [
      "120\n"
     ]
    }
   ],
   "source": [
    "# Python code example\n",
    "def factorial(n):\n",
    "    if n == 0 or n == 1:  # Base case\n",
    "        return 1\n",
    "    else:\n",
    "        return n * factorial(n - 1)  # Recursive case\n",
    "\n",
    "print(factorial(5))"
   ]
  },
  {
   "cell_type": "markdown",
   "id": "ffb5760f-7b81-4055-8365-de95ad54e315",
   "metadata": {},
   "source": [
    "### Flow of Execution**:\n",
    "- `factorial(5)` calls `factorial(4)`\n",
    "- `factorial(4)` calls `factorial(3)`\n",
    "- `factorial(3)` calls `factorial(2)`\n",
    "- `factorial(2)` calls `factorial(1)`\n",
    "- `factorial(1)` returns `1`, and the recursive calls start to unwind, multiplying the results.\n",
    "\n",
    "#### Understanding Call Stack\n",
    "- **Call Stack**: Every time a function calls another function, it adds a new frame to the call stack. When a base case is reached, the function returns its result, and the stack begins to \"unwind.\"\n",
    "- **Visualization**: \n",
    "     - Use a stack diagram to show how the function calls build up and unwind.\n",
    "     - Example with `factorial(5)`:\n",
    "       ```\n",
    "       Call Stack:\n",
    "       factorial(5)\n",
    "       factorial(4)\n",
    "       factorial(3)\n",
    "       factorial(2)\n",
    "       factorial(1) -> base case, returns 1\n",
    "       Unwinding: \n",
    "       1 * factorial(2) = 2\n",
    "       2 * factorial(3) = 6\n",
    "       6 * factorial(4) = 24\n",
    "       24 * factorial(5) = 120\n",
    "       ```\n"
   ]
  },
  {
   "cell_type": "markdown",
   "id": "636f7a1d-beea-43cc-ba84-55b39e50f5a9",
   "metadata": {},
   "source": [
    "#### Exercise 1: Fibonacci Sequence\n",
    "The Fibonacci sequence is defined as:\n",
    "- `fib(0) = 0`\n",
    "- `fib(1) = 1`\n",
    "- `fib(n) = fib(n-1) + fib(n-2)` for `n > 1`\n"
   ]
  },
  {
   "cell_type": "code",
   "execution_count": null,
   "id": "47b2fc9c-7a53-4b02-931a-75f3af183c6e",
   "metadata": {},
   "outputs": [
    {
     "ename": "KeyboardInterrupt",
     "evalue": "",
     "output_type": "error",
     "traceback": [
      "\u001b[0;31m---------------------------------------------------------------------------\u001b[0m",
      "\u001b[0;31mKeyboardInterrupt\u001b[0m                         Traceback (most recent call last)",
      "Cell \u001b[0;32mIn[8], line 14\u001b[0m\n\u001b[1;32m     10\u001b[0m         \u001b[38;5;28;01mreturn\u001b[39;00m fib(n\u001b[38;5;241m-\u001b[39m\u001b[38;5;241m1\u001b[39m) \u001b[38;5;241m+\u001b[39m (fib_n_1\u001b[38;5;241m-\u001b[39m\u001b[38;5;241m1\u001b[39m)\n\u001b[1;32m     12\u001b[0m \u001b[38;5;66;03m# Testing the function\u001b[39;00m\n\u001b[0;32m---> 14\u001b[0m \u001b[38;5;28mprint\u001b[39m(\u001b[43mfib\u001b[49m\u001b[43m(\u001b[49m\u001b[38;5;241;43m999\u001b[39;49m\u001b[43m)\u001b[49m) \u001b[38;5;66;03m# Output: 354224848179261915075\u001b[39;00m\n",
      "Cell \u001b[0;32mIn[8], line 9\u001b[0m, in \u001b[0;36mfib\u001b[0;34m(n)\u001b[0m\n\u001b[1;32m      7\u001b[0m     \u001b[38;5;28;01mreturn\u001b[39;00m \u001b[38;5;241m1\u001b[39m\n\u001b[1;32m      8\u001b[0m \u001b[38;5;28;01melse\u001b[39;00m:\n\u001b[0;32m----> 9\u001b[0m     fib_n_1 \u001b[38;5;241m=\u001b[39m \u001b[43mfib\u001b[49m\u001b[43m(\u001b[49m\u001b[43mn\u001b[49m\u001b[38;5;241;43m-\u001b[39;49m\u001b[38;5;241;43m1\u001b[39;49m\u001b[43m)\u001b[49m\n\u001b[1;32m     10\u001b[0m     \u001b[38;5;28;01mreturn\u001b[39;00m fib(n\u001b[38;5;241m-\u001b[39m\u001b[38;5;241m1\u001b[39m) \u001b[38;5;241m+\u001b[39m (fib_n_1\u001b[38;5;241m-\u001b[39m\u001b[38;5;241m1\u001b[39m)\n",
      "Cell \u001b[0;32mIn[8], line 9\u001b[0m, in \u001b[0;36mfib\u001b[0;34m(n)\u001b[0m\n\u001b[1;32m      7\u001b[0m     \u001b[38;5;28;01mreturn\u001b[39;00m \u001b[38;5;241m1\u001b[39m\n\u001b[1;32m      8\u001b[0m \u001b[38;5;28;01melse\u001b[39;00m:\n\u001b[0;32m----> 9\u001b[0m     fib_n_1 \u001b[38;5;241m=\u001b[39m \u001b[43mfib\u001b[49m\u001b[43m(\u001b[49m\u001b[43mn\u001b[49m\u001b[38;5;241;43m-\u001b[39;49m\u001b[38;5;241;43m1\u001b[39;49m\u001b[43m)\u001b[49m\n\u001b[1;32m     10\u001b[0m     \u001b[38;5;28;01mreturn\u001b[39;00m fib(n\u001b[38;5;241m-\u001b[39m\u001b[38;5;241m1\u001b[39m) \u001b[38;5;241m+\u001b[39m (fib_n_1\u001b[38;5;241m-\u001b[39m\u001b[38;5;241m1\u001b[39m)\n",
      "    \u001b[0;31m[... skipping similar frames: fib at line 9 (968 times)]\u001b[0m\n",
      "Cell \u001b[0;32mIn[8], line 10\u001b[0m, in \u001b[0;36mfib\u001b[0;34m(n)\u001b[0m\n\u001b[1;32m      8\u001b[0m \u001b[38;5;28;01melse\u001b[39;00m:\n\u001b[1;32m      9\u001b[0m     fib_n_1 \u001b[38;5;241m=\u001b[39m fib(n\u001b[38;5;241m-\u001b[39m\u001b[38;5;241m1\u001b[39m)\n\u001b[0;32m---> 10\u001b[0m     \u001b[38;5;28;01mreturn\u001b[39;00m \u001b[43mfib\u001b[49m\u001b[43m(\u001b[49m\u001b[43mn\u001b[49m\u001b[38;5;241;43m-\u001b[39;49m\u001b[38;5;241;43m1\u001b[39;49m\u001b[43m)\u001b[49m \u001b[38;5;241m+\u001b[39m (fib_n_1\u001b[38;5;241m-\u001b[39m\u001b[38;5;241m1\u001b[39m)\n",
      "Cell \u001b[0;32mIn[8], line 10\u001b[0m, in \u001b[0;36mfib\u001b[0;34m(n)\u001b[0m\n\u001b[1;32m      8\u001b[0m \u001b[38;5;28;01melse\u001b[39;00m:\n\u001b[1;32m      9\u001b[0m     fib_n_1 \u001b[38;5;241m=\u001b[39m fib(n\u001b[38;5;241m-\u001b[39m\u001b[38;5;241m1\u001b[39m)\n\u001b[0;32m---> 10\u001b[0m     \u001b[38;5;28;01mreturn\u001b[39;00m \u001b[43mfib\u001b[49m\u001b[43m(\u001b[49m\u001b[43mn\u001b[49m\u001b[38;5;241;43m-\u001b[39;49m\u001b[38;5;241;43m1\u001b[39;49m\u001b[43m)\u001b[49m \u001b[38;5;241m+\u001b[39m (fib_n_1\u001b[38;5;241m-\u001b[39m\u001b[38;5;241m1\u001b[39m)\n",
      "    \u001b[0;31m[... skipping similar frames: fib at line 9 (13 times), fib at line 10 (8 times)]\u001b[0m\n",
      "Cell \u001b[0;32mIn[8], line 9\u001b[0m, in \u001b[0;36mfib\u001b[0;34m(n)\u001b[0m\n\u001b[1;32m      7\u001b[0m     \u001b[38;5;28;01mreturn\u001b[39;00m \u001b[38;5;241m1\u001b[39m\n\u001b[1;32m      8\u001b[0m \u001b[38;5;28;01melse\u001b[39;00m:\n\u001b[0;32m----> 9\u001b[0m     fib_n_1 \u001b[38;5;241m=\u001b[39m \u001b[43mfib\u001b[49m\u001b[43m(\u001b[49m\u001b[43mn\u001b[49m\u001b[38;5;241;43m-\u001b[39;49m\u001b[38;5;241;43m1\u001b[39;49m\u001b[43m)\u001b[49m\n\u001b[1;32m     10\u001b[0m     \u001b[38;5;28;01mreturn\u001b[39;00m fib(n\u001b[38;5;241m-\u001b[39m\u001b[38;5;241m1\u001b[39m) \u001b[38;5;241m+\u001b[39m (fib_n_1\u001b[38;5;241m-\u001b[39m\u001b[38;5;241m1\u001b[39m)\n",
      "    \u001b[0;31m[... skipping similar frames: fib at line 10 (1 times)]\u001b[0m\n",
      "Cell \u001b[0;32mIn[8], line 10\u001b[0m, in \u001b[0;36mfib\u001b[0;34m(n)\u001b[0m\n\u001b[1;32m      8\u001b[0m \u001b[38;5;28;01melse\u001b[39;00m:\n\u001b[1;32m      9\u001b[0m     fib_n_1 \u001b[38;5;241m=\u001b[39m fib(n\u001b[38;5;241m-\u001b[39m\u001b[38;5;241m1\u001b[39m)\n\u001b[0;32m---> 10\u001b[0m     \u001b[38;5;28;01mreturn\u001b[39;00m \u001b[43mfib\u001b[49m\u001b[43m(\u001b[49m\u001b[43mn\u001b[49m\u001b[38;5;241;43m-\u001b[39;49m\u001b[38;5;241;43m1\u001b[39;49m\u001b[43m)\u001b[49m \u001b[38;5;241m+\u001b[39m (fib_n_1\u001b[38;5;241m-\u001b[39m\u001b[38;5;241m1\u001b[39m)\n",
      "Cell \u001b[0;32mIn[8], line 3\u001b[0m, in \u001b[0;36mfib\u001b[0;34m(n)\u001b[0m\n\u001b[1;32m      1\u001b[0m \u001b[38;5;66;03m# Exercise 1: Fibonacci Sequence\u001b[39;00m\n\u001b[1;32m      2\u001b[0m \u001b[38;5;66;03m# Your code here\u001b[39;00m\n\u001b[0;32m----> 3\u001b[0m \u001b[38;5;28;01mdef\u001b[39;00m \u001b[38;5;21mfib\u001b[39m(n):\n\u001b[1;32m      4\u001b[0m     \u001b[38;5;28;01mif\u001b[39;00m n \u001b[38;5;241m==\u001b[39m \u001b[38;5;241m0\u001b[39m:\n\u001b[1;32m      5\u001b[0m         \u001b[38;5;28;01mreturn\u001b[39;00m \u001b[38;5;241m0\u001b[39m\n",
      "\u001b[0;31mKeyboardInterrupt\u001b[0m: "
     ]
    }
   ],
   "source": [
    "# Exercise 1: Fibonacci Sequence\n",
    "# Your code here\n",
    "def fib(n):\n",
    "    if n == 0:\n",
    "        return 0\n",
    "    elif n == 1:\n",
    "        return 1\n",
    "    else:\n",
    "        fib_n_1 = fib(n-1)\n",
    "        return fib(n-1) + (fib_n_1-1)\n",
    "\n",
    "# Testing the function\n",
    "\n",
    "print(fib(999)) # Output: 354224848179261915075\n",
    "\n",
    "\n",
    "def adad():"
   ]
  },
  {
   "cell_type": "markdown",
   "id": "7543d3ce-68ec-4a7a-bb94-c36dbb8e0c7e",
   "metadata": {},
   "source": [
    "### Difference Between Recursion and Loops\n",
    "\n",
    "Both recursion and loops can be used to solve repetitive tasks, but there are key differences in how they work and when to use each. This section will explore these differences.\n",
    "\n",
    "---\n",
    "\n",
    "#### **1. Conceptual Differences:**\n",
    "\n",
    "- **Recursion**:\n",
    "  - Involves a function calling itself with modified arguments, breaking the problem down into smaller instances.\n",
    "  - Recursion relies on the function's call stack to keep track of different states and results.\n",
    "  - Recursive functions are usually more elegant and easier to write for problems that can be divided into smaller subproblems (like tree traversal, factorials, Fibonacci sequences).\n",
    "  \n",
    "- **Looping (Iteration)**:\n",
    "  - A loop (e.g., `for` or `while`) repeats a block of code multiple times until a condition is met, without calling the function itself.\n",
    "  - Loops use a single function call and don't rely on the call stack to keep track of states.\n",
    "  - Iteration is generally more efficient in terms of memory usage because there is no overhead associated with managing the call stack, and it's typically faster.\n",
    "\n",
    "---\n",
    "\n",
    "#### **2. Memory Usage:**\n",
    "\n",
    "- **Recursion**:\n",
    "  - Each recursive call creates a new frame in the call stack, consuming more memory as the depth of recursion increases.\n",
    "  - Too many recursive calls can lead to a **stack overflow** if the recursion depth exceeds the system's limit, causing a `RecursionError`.\n",
    "  \n",
    "- **Looping**:\n",
    "  - Loops don't add new frames to the call stack. The program maintains a single function call, making loops much more memory-efficient.\n",
    "  - There is no risk of a stack overflow when using loops, even for deep iterations.\n",
    "\n",
    "---\n",
    "#### **3. Performance:**\n",
    "\n",
    "- **Recursion**:\n",
    "  - Recursive functions can sometimes be **inefficient**. For example, the naive recursive solution for Fibonacci recalculates the same values multiple times, leading to exponential time complexity.\n",
    "  - Recursion also has an overhead because of the function calls, which may make it slower in some cases.\n",
    "\n",
    "- **Looping**:\n",
    "  - Loops tend to have **linear time complexity** for repetitive tasks (e.g., iterating through a list of `n` elements).\n",
    "  - In general, loops are more **performance-efficient** for tasks where the result can be computed without breaking the problem into smaller subproblems.\n",
    "\n",
    "---\n",
    "\n",
    "#### **4. When to Use Recursion vs Loops:**\n",
    "\n",
    "- **Use Recursion When**:\n",
    "  - The problem can be naturally divided into smaller, identical subproblems (e.g., calculating factorials, traversing a tree, solving divide-and-conquer problems).\n",
    "  - The problem involves multiple levels of nested computations or hierarchical structures, where recursion provides a cleaner, more intuitive solution.\n",
    "  - You’re dealing with problems like backtracking (e.g., solving mazes, generating permutations).\n",
    "\n",
    "- **Use Loops When**:\n",
    "  - The task involves repetitive operations over a collection (e.g., iterating through a list, summing elements, checking conditions on each item).\n",
    "  - Efficiency and memory consumption are critical, especially for large datasets.\n",
    "  - The task can be solved with a simple sequence of operations (e.g., summing numbers from 1 to 100).\n",
    "\n",
    "---\n",
    "\n",
    "#### **Example: Sum of Numbers**\n",
    "\n",
    "**Using Recursion**:\n",
    "```python\n",
    "def sum_recursive(numbers):\n",
    "    if len(numbers) == 0:\n",
    "        return 0\n",
    "    else:\n",
    "        return numbers[0] + sum_recursive(numbers[1:])\n",
    "```\n",
    "- **Explanation**: The function calls itself with the tail of the list until the base case is reached (empty list).\n",
    "- **Memory Usage**: Each recursive call adds a new frame to the call stack, which can be inefficient for large lists.\n",
    "\n",
    "**Using Loop**:\n",
    "```python\n",
    "def sum_iterative(numbers):\n",
    "    total = 0\n",
    "    for num in numbers:\n",
    "        total += num\n",
    "    return total\n",
    "```\n",
    "- **Explanation**: The loop iterates through the list, adding each element to `total`.\n",
    "- **Memory Usage**: The loop doesn't create additional function calls, making it more memory efficient.\n",
    "\n",
    "---\n",
    "\n",
    "#### **Example: Factorial Calculation**\n",
    "\n",
    "**Using Recursion**:\n",
    "```python\n",
    "def factorial_recursive(n):\n",
    "    if n == 0 or n == 1:\n",
    "        return 1\n",
    "    else:\n",
    "        return n * factorial_recursive(n - 1)\n",
    "```\n",
    "\n",
    "**Using Loop**:\n",
    "```python\n",
    "def factorial_iterative(n):\n",
    "    result = 1\n",
    "    for i in range(1, n + 1):\n",
    "        result *= i\n",
    "    return result\n",
    "```\n",
    "\n",
    "- **Recursion**: Elegant, but may lead to stack overflow for very large `n` values.\n",
    "- **Loop**: Iterative approach, more efficient for larger `n` values.\n"
   ]
  },
  {
   "cell_type": "markdown",
   "id": "6c690833-bd5d-4409-869b-aaccc7d441c7",
   "metadata": {},
   "source": [
    "#### **Summary of Differences:**\n",
    "\n",
    "| Feature              | Recursion                             | Looping (Iteration)                  |\n",
    "|----------------------|---------------------------------------|--------------------------------------|\n",
    "| **Memory Usage**      | High (due to call stack)              | Low (single function call)           |\n",
    "| **Performance**       | Can be inefficient due to repeated work | Generally more efficient             |\n",
    "| **Risk**              | Risk of stack overflow with deep recursion | No risk of stack overflow            |\n",
    "| **Elegance**          | Often more elegant for problems that divide naturally into subproblems | More straightforward for repetitive tasks |\n",
    "| **Best For**          | Hierarchical problems, divide-and-conquer, tree traversal | Iterating through collections, simple repetitive tasks |\n",
    "\n",
    "---\n",
    "\n",
    "### **Final Thought**:\n",
    "- Recursion and loops are both powerful tools, and choosing between them depends on the problem at hand. While recursion provides clarity for certain problems, loops tend to be better suited for tasks that are straightforward and require efficient memory usage.\n"
   ]
  },
  {
   "cell_type": "markdown",
   "id": "2fdf8fe9-3d2d-4711-b85e-ff4d4c94d12c",
   "metadata": {},
   "source": [
    "#### Exercise 2: AddSum()\n",
    "`AddSum` is a function defined as:   \n",
    "- `AddSum(0, n)` = `n`, for all positive `n`.  \n",
    "- `AddSum(k, n)` = `AddSum(k-1, 1) + AddSum(k-1, 2) + … + AddSum(k-1, n)`, for all positive `k`, `n`.\n",
    "\n",
    "Write a function `AddSum(k, n)`. Given `k` and `n`, where 1 ≤ `k`, `n` ≤ 14, output the value of `AddSum(k, n)`  \n",
    "\n",
    "**Examples 1**  \n",
    "`AddSum(1, 3)` → 6\n",
    "- When k = 1, AddSum is equal to the sum of the first n = 3 numbers: 1 + 2 + 3 = 6.\n",
    "\n",
    "**Test Cases**\n",
    "- (2,3) → 10\n",
    "- (7,10) → 24310\n",
    "- (14,14) → 37442160\n"
   ]
  },
  {
   "cell_type": "code",
   "execution_count": 12,
   "id": "d2ca6275-85f2-4a58-99de-678154420bbf",
   "metadata": {},
   "outputs": [
    {
     "name": "stdout",
     "output_type": "stream",
     "text": [
      "6\n",
      "10\n",
      "24310\n",
      "37442160\n"
     ]
    }
   ],
   "source": [
    "# Exercise 2: AddSum()\n",
    "# Your code here\n",
    "\n",
    "def add_sum(k, n):\n",
    "    memo = {}\n",
    "    \n",
    "    def helper(k, n):\n",
    "        if (k, n) in memo:\n",
    "            return memo[(k, n)]\n",
    "        if k == 0:\n",
    "            return n\n",
    "        result = sum(helper(k - 1, i) for i in range(1, n + 1))\n",
    "        memo[(k, n)] = result\n",
    "        return result\n",
    "    \n",
    "    return helper(k, n)\n",
    "\n",
    "# Test cases\n",
    "print(add_sum(1, 3))   # 6\n",
    "print(add_sum(2, 3))   # 10\n",
    "print(add_sum(7, 10))  # 24310\n",
    "print(add_sum(14, 14)) # 37442160\n",
    "\n",
    "\n",
    "    "
   ]
  },
  {
   "cell_type": "code",
   "execution_count": 20,
   "id": "87ead0d0",
   "metadata": {},
   "outputs": [
    {
     "ename": "IndexError",
     "evalue": "list assignment index out of range",
     "output_type": "error",
     "traceback": [
      "\u001b[0;31m---------------------------------------------------------------------------\u001b[0m",
      "\u001b[0;31mIndexError\u001b[0m                                Traceback (most recent call last)",
      "Cell \u001b[0;32mIn[20], line 17\u001b[0m\n\u001b[1;32m     15\u001b[0m         memo[amt] \u001b[38;5;241m=\u001b[39m \u001b[38;5;28mmin\u001b[39m(ans) \n\u001b[1;32m     16\u001b[0m         \u001b[38;5;28;01mreturn\u001b[39;00m memo[amt]\n\u001b[0;32m---> 17\u001b[0m \u001b[38;5;28mprint\u001b[39m(\u001b[43mDPmemo\u001b[49m\u001b[43m(\u001b[49m\u001b[38;5;241;43m14\u001b[39;49m\u001b[43m,\u001b[49m\u001b[43m \u001b[49m\u001b[43m[\u001b[49m\u001b[38;5;241;43m1\u001b[39;49m\u001b[43m,\u001b[49m\u001b[38;5;241;43m7\u001b[39;49m\u001b[43m,\u001b[49m\u001b[38;5;241;43m10\u001b[39;49m\u001b[43m]\u001b[49m\u001b[43m)\u001b[49m)\n",
      "Cell \u001b[0;32mIn[20], line 13\u001b[0m, in \u001b[0;36mDPmemo\u001b[0;34m(amt, v)\u001b[0m\n\u001b[1;32m     11\u001b[0m \u001b[38;5;28;01mfor\u001b[39;00m i \u001b[38;5;129;01min\u001b[39;00m v:\n\u001b[1;32m     12\u001b[0m     \u001b[38;5;28;01mif\u001b[39;00m amt \u001b[38;5;241m>\u001b[39m\u001b[38;5;241m=\u001b[39m v[i]:\n\u001b[0;32m---> 13\u001b[0m         temp \u001b[38;5;241m=\u001b[39m \u001b[38;5;241m1\u001b[39m\u001b[38;5;241m+\u001b[39m \u001b[43mDPmemo\u001b[49m\u001b[43m(\u001b[49m\u001b[43mamt\u001b[49m\u001b[43m \u001b[49m\u001b[38;5;241;43m-\u001b[39;49m\u001b[43m \u001b[49m\u001b[43mv\u001b[49m\u001b[43m[\u001b[49m\u001b[43mi\u001b[49m\u001b[43m]\u001b[49m\u001b[43m,\u001b[49m\u001b[43m \u001b[49m\u001b[43mv\u001b[49m\u001b[43m)\u001b[49m\n\u001b[1;32m     14\u001b[0m         ans\u001b[38;5;241m.\u001b[39mappend(temp)\n\u001b[1;32m     15\u001b[0m     memo[amt] \u001b[38;5;241m=\u001b[39m \u001b[38;5;28mmin\u001b[39m(ans) \n",
      "Cell \u001b[0;32mIn[20], line 15\u001b[0m, in \u001b[0;36mDPmemo\u001b[0;34m(amt, v)\u001b[0m\n\u001b[1;32m     13\u001b[0m     temp \u001b[38;5;241m=\u001b[39m \u001b[38;5;241m1\u001b[39m\u001b[38;5;241m+\u001b[39m DPmemo(amt \u001b[38;5;241m-\u001b[39m v[i], v)\n\u001b[1;32m     14\u001b[0m     ans\u001b[38;5;241m.\u001b[39mappend(temp)\n\u001b[0;32m---> 15\u001b[0m \u001b[43mmemo\u001b[49m\u001b[43m[\u001b[49m\u001b[43mamt\u001b[49m\u001b[43m]\u001b[49m \u001b[38;5;241m=\u001b[39m \u001b[38;5;28mmin\u001b[39m(ans) \n\u001b[1;32m     16\u001b[0m \u001b[38;5;28;01mreturn\u001b[39;00m memo[amt]\n",
      "\u001b[0;31mIndexError\u001b[0m: list assignment index out of range"
     ]
    }
   ],
   "source": [
    "memo = []\n",
    "def DPmemo(amt, v):\n",
    "    #base case\n",
    "    if amt == 0:\n",
    "        return 0\n",
    "    #check if the current state has been solved\n",
    "    if amt in memo:\n",
    "        return memo[amt]\n",
    "    # code out ALL possibilities \n",
    "    ans = []\n",
    "    for i in v:\n",
    "        if amt >= v[i]:\n",
    "            temp = 1+ DPmemo(amt - v[i], v)\n",
    "            ans.append(temp)\n",
    "        memo[amt] = min(ans) \n",
    "        return memo[amt]\n",
    "print(DPmemo(14, [1,7,10]))"
   ]
  },
  {
   "cell_type": "code",
   "execution_count": 19,
   "id": "d3ebb1b1",
   "metadata": {},
   "outputs": [
    {
     "name": "stdout",
     "output_type": "stream",
     "text": [
      "3\n"
     ]
    }
   ],
   "source": [
    "#Coin Change Problem\n",
    "\n",
    "def coinChange(coins, amount):\n",
    "    if amount == 0:\n",
    "        return 0\n",
    "    if amount < 0:\n",
    "        return -1\n",
    "    min_coins = float('inf')\n",
    "    for coin in coins:\n",
    "        if coin <= amount:\n",
    "            num_coins = coinChange(coins, amount - coin)\n",
    "            if num_coins >= 0 and num_coins < min_coins:\n",
    "                min_coins = num_coins\n",
    "    if min_coins == float('inf'):\n",
    "        return -1\n",
    "    return min_coins + 1\n",
    "\n",
    "coins = [1, 2, 5]\n",
    "amount = 11\n",
    "print(coinChange(coins, amount)) "
   ]
  },
  {
   "cell_type": "code",
   "execution_count": 17,
   "id": "8ee03174",
   "metadata": {},
   "outputs": [
    {
     "data": {
      "text/plain": [
       "0"
      ]
     },
     "execution_count": 17,
     "metadata": {},
     "output_type": "execute_result"
    }
   ],
   "source": [
    "\n",
    "def coinChange(coins, amt):\n",
    "    num = 0\n",
    "    if amt == 0:\n",
    "        return 0\n",
    "    for i  in range(1, len(coins)+1):\n",
    "        if amt%coins[-i]!=0:\n",
    "            num += amt//coins[-i]\n",
    "            amt = amt%coins[-i]\n",
    "            if amt == 0:\n",
    "                return num\n",
    "        else:\n",
    "            return amt%coins[-i]\n",
    "coinChange([1, 2, 5], 11)"
   ]
  },
  {
   "cell_type": "code",
   "execution_count": 18,
   "id": "755c032f",
   "metadata": {},
   "outputs": [
    {
     "data": {
      "text/plain": [
       "3"
      ]
     },
     "execution_count": 18,
     "metadata": {},
     "output_type": "execute_result"
    }
   ],
   "source": [
    "def coin_change_greedy(coins, amount):\n",
    "            coins.sort(reverse = True)\n",
    "            total_coins = 0\n",
    "            for value in coins:\n",
    "                if amount >= value:\n",
    "                    n = amount // value\n",
    "                    total_coins += n\n",
    "                    amount -= n*value\n",
    "            return total_coins\n",
    "coin_change_greedy([1,2,5], 11)"
   ]
  }
 ],
 "metadata": {
  "kernelspec": {
   "display_name": "Python 3",
   "language": "python",
   "name": "python3"
  },
  "language_info": {
   "codemirror_mode": {
    "name": "ipython",
    "version": 3
   },
   "file_extension": ".py",
   "mimetype": "text/x-python",
   "name": "python",
   "nbconvert_exporter": "python",
   "pygments_lexer": "ipython3",
   "version": "3.12.4"
  }
 },
 "nbformat": 4,
 "nbformat_minor": 5
}
