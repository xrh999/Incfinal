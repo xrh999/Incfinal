{
 "cells": [
  {
   "cell_type": "markdown",
   "id": "b28ff480-11e0-4208-98ad-be34c45bb8c9",
   "metadata": {},
   "source": [
    "# Basic Input/Output, Variables and Assignment"
   ]
  },
  {
   "cell_type": "markdown",
   "id": "70396231-6ddf-4e25-82bc-21f359ea685c",
   "metadata": {},
   "source": [
    "## Functions"
   ]
  },
  {
   "cell_type": "code",
   "execution_count": 1,
   "id": "43c16725-2850-4084-9afb-7264abebb3c5",
   "metadata": {},
   "outputs": [
    {
     "name": "stdout",
     "output_type": "stream",
     "text": [
      "Hello World!\n"
     ]
    }
   ],
   "source": [
    "# Run this cell.\n",
    "\n",
    "print(\"Hello World!\")"
   ]
  },
  {
   "cell_type": "markdown",
   "id": "5a8bac39-d6ac-4780-92e1-f22d6f71dd38",
   "metadata": {},
   "source": [
    "`print()` is a Python function.\n",
    "A function is a block of code written to carry out a task. \\\n",
    "`print()` displays the function input to the console. \\\n",
    "The function input is enclosed within the parenthesis `()`. \\\n",
    "In the above exampe, `\"Hello World!\"` is the input to the `print()` function.\n"
   ]
  },
  {
   "cell_type": "markdown",
   "id": "e37f1096-1ef0-4c9d-9849-63bd7fb9b047",
   "metadata": {},
   "source": [
    "Study the two examples to print out a statement with Python.\n"
   ]
  },
  {
   "cell_type": "code",
   "execution_count": null,
   "id": "be09cbc6-02a9-42bf-b365-362c096e932f",
   "metadata": {},
   "outputs": [],
   "source": [
    "# Example 1\n",
    "\n",
    "print(\"Peter is a Singaporean.\")"
   ]
  },
  {
   "cell_type": "code",
   "execution_count": null,
   "id": "5b0e547f-c9f3-479d-8ddf-97577e4a5c46",
   "metadata": {},
   "outputs": [],
   "source": [
    "# Example 2\n",
    "\n",
    "name = \"Peter\"\n",
    "print(name, \"is a Singaporean.\")"
   ]
  },
  {
   "cell_type": "markdown",
   "id": "1ae8535b-e5d1-403a-9edd-1f2897b30cf8",
   "metadata": {},
   "source": [
    "### Reflection 1\n",
    "Describe the advantages and disadvantages of Methods 1 and 2.\n",
    "\n",
    "**Your Response**\n"
   ]
  },
  {
   "cell_type": "markdown",
   "id": "4db684be-a081-45ef-b423-cf5a94d26cb4",
   "metadata": {},
   "source": [
    "meathod one is like a one time class however if you want to use the name of the person in another area you would need to scroll back up\n",
    "meathod two allows the name to be reused in different areas."
   ]
  },
  {
   "cell_type": "markdown",
   "id": "c20f049c-e378-4914-94bc-42fe6e934037",
   "metadata": {},
   "source": [
    "## Variables and Assignment\n",
    "\n",
    "Variables are used to hold values in a program. In Example 2, `name` is a variable that holds the value `\"Peter\"`. The variable name and type are crucial during the declaration of a variable.\n",
    "\n",
    "There are rules for naming a variable:\n",
    "1. Can contain uppercase or lowercase letters (A - Z, a - z)\n",
    "2. Can contain numbers (0 - 9) but cannot start with a number\n",
    "3. Can contain underscore symbol (_)\n",
    "4. Cannot contain any other characters (e.g. $ % # or a space)\n",
    "5. Cannot be of a reserved word that has special meaning in Python\n",
    "    > *False, None, True, and, as, assert, break, class, continue, def, del, elif, else, except, finally, for, from, global, if, import, in, is, lambda, nonlocal, not, or, pass, raise, return, try, while, with, yield*\n",
    "\n",
    "In the statement `name = \"Peter\"`\n",
    "\n",
    "`\"Peter\"` is assigned to the variable `name`.\n"
   ]
  },
  {
   "cell_type": "markdown",
   "id": "2e138efe-8198-422e-a2c0-e53f7e6cf9cf",
   "metadata": {},
   "source": [
    "### Reflection 2\n",
    "\n",
    "Which assignment statement is more clear? Why?\n",
    "\n",
    "`name = \"Peter\"` or `x = \"Peter\"`\n",
    "\n",
    "**Your Response**\n"
   ]
  },
  {
   "cell_type": "markdown",
   "id": "4bed659b-2276-47f7-8916-b63e8cccb4f2",
   "metadata": {},
   "source": [
    "name = \"Peter\" as others reading the code later on would not know what x is"
   ]
  },
  {
   "cell_type": "markdown",
   "id": "a34dcd22-58ad-4027-ac66-015b58472a95",
   "metadata": {},
   "source": [
    "## Exercise 1\n",
    "## Identify the Syntax Errors\n",
    "\n",
    "The following variable names cause syntax errors.\n",
    "\n",
    "* Explain why these variable names are invalid.\n",
    "* Correct the variable names so that they adhere to syntax rules."
   ]
  },
  {
   "cell_type": "code",
   "execution_count": null,
   "id": "a5e25f6d-4205-4b26-a239-f99b8feec3f1",
   "metadata": {},
   "outputs": [],
   "source": [
    "# 1a\n",
    "2A = 15\n",
    "\n",
    "# Reason\n",
    "# A variable cannot start with a number"
   ]
  },
  {
   "cell_type": "code",
   "execution_count": null,
   "id": "c1532265-6dcb-4a64-8c63-0d8a9242fe43",
   "metadata": {},
   "outputs": [],
   "source": [
    "# 1b\n",
    "my school = \"SST\"\n",
    "\n",
    "# Reason\n",
    "# when naming a variable there cannot be any spaces"
   ]
  },
  {
   "cell_type": "code",
   "execution_count": null,
   "id": "e49ab758-08c6-4835-a901-599addf59623",
   "metadata": {},
   "outputs": [],
   "source": [
    "# 1c\n",
    "cost$ = 5.80\n",
    "\n",
    "# Reason\n",
    "# you cannot put special symbols in the variable name\n"
   ]
  },
  {
   "cell_type": "code",
   "execution_count": null,
   "id": "b20ed43f-ca71-4419-81ce-68dbad7b0288",
   "metadata": {},
   "outputs": [],
   "source": [
    "# 1d\n",
    "class = \"407\"\n",
    "\n",
    "# Reason\n",
    "# you cannot name a variable as a function\n"
   ]
  },
  {
   "cell_type": "markdown",
   "id": "ded714a5-1de2-4ed9-85d0-3db6f3886a3f",
   "metadata": {},
   "source": [
    "## Reading Values\n",
    "We can retrieve the value assigned to a variable by using the variable’s name. Python will use the last assigned value.\n",
    "\n",
    "To display the value of a variable on the screen, use the *print()* function as follows\n",
    ">print(variable_name)"
   ]
  },
  {
   "cell_type": "code",
   "execution_count": null,
   "id": "48bfd249-1592-4ce5-b919-2b21de858c4f",
   "metadata": {},
   "outputs": [],
   "source": [
    "# Run this code\n",
    "\n",
    "my_name = \"Jason\"\n",
    "print(my_name)     # Jason\n",
    "my_name = \"Jane\"\n",
    "print(my_name)     # Jane\n",
    "my_name = \"Jenny\"\n",
    "print(my_name)     # Jenny"
   ]
  },
  {
   "cell_type": "markdown",
   "id": "f5c6c637-1b25-43eb-bed3-ead04b7ba83e",
   "metadata": {},
   "source": [
    "If you try to read a variable that does not correspond to any variable that was used or defined previously, \n",
    "Python will produce an error message instead:"
   ]
  },
  {
   "cell_type": "code",
   "execution_count": null,
   "id": "8972a77d-ce41-42c7-9a1f-28bc3a31908f",
   "metadata": {},
   "outputs": [],
   "source": [
    "# Run this code\n",
    "\n",
    "print(his_name)"
   ]
  },
  {
   "cell_type": "markdown",
   "id": "5553bad5-b3c8-4ba3-8c8c-1902fce5a4d5",
   "metadata": {},
   "source": [
    "## More about `print()` Function\n",
    "\n",
    "In Example 2, you learnt that `print()` function accepts multiple inputs using the comma `,` separator.\n",
    "\n",
    "Study Examples 3, 4 and 5.\n"
   ]
  },
  {
   "cell_type": "code",
   "execution_count": 1,
   "id": "12e0ce5c-e18e-4c68-bc44-c51b4ca059a0",
   "metadata": {},
   "outputs": [
    {
     "name": "stdout",
     "output_type": "stream",
     "text": [
      "Peter SST\n",
      "\n"
     ]
    }
   ],
   "source": [
    "# Example 3\n",
    "\n",
    "my_name = \"Peter\"\n",
    "my_school = \"SST\"\n",
    "\n",
    "# Run this code\n",
    "print(my_name, my_school)\n",
    "print()"
   ]
  },
  {
   "cell_type": "code",
   "execution_count": 3,
   "id": "f3d3f370-b7e7-4bf3-bef6-96dbf09cac68",
   "metadata": {},
   "outputs": [
    {
     "name": "stdout",
     "output_type": "stream",
     "text": [
      "PeterSST\n",
      "\n"
     ]
    }
   ],
   "source": [
    "# Example 4\n",
    "\n",
    "my_name = \"Peter\"\n",
    "my_school = \"SST\"\n",
    "\n",
    "print(my_name, my_school, sep = \"\")\n",
    "print()"
   ]
  },
  {
   "cell_type": "code",
   "execution_count": 3,
   "id": "5fc2b8e2-b0e9-4e5b-9f1e-b5a8fcfccb69",
   "metadata": {},
   "outputs": [
    {
     "name": "stdout",
     "output_type": "stream",
     "text": [
      "Peter SST ~ \n"
     ]
    }
   ],
   "source": [
    "# Example 5\n",
    "\n",
    "my_name = \"Peter\"\n",
    "my_school = \"SST\"\n",
    "\n",
    "print(my_name, my_school, end = \" ~ \")\n",
    "print()"
   ]
  },
  {
   "cell_type": "markdown",
   "id": "fbd07032-7f03-4c53-ab62-807ab66a1d67",
   "metadata": {},
   "source": [
    "### Reflection 3\n",
    "\n",
    "What are the functions of `sep` and `end`?\n",
    "\n",
    "What are the functions of `\\t` and `\\n`?\n",
    "\n",
    "**Your Response**"
   ]
  },
  {
   "cell_type": "markdown",
   "id": "0103338a-1a51-435a-9e31-c31d6e1bfd32",
   "metadata": {},
   "source": [
    "sep is the seperation between the variabels and end is something added to the back\n",
    "\\t adds a large space\n",
    "\\n makes it go to the next line in the output"
   ]
  },
  {
   "cell_type": "markdown",
   "id": "ecc7790c-b810-45f3-a2dd-6aca52e3ca72",
   "metadata": {},
   "source": [
    "## Input Function\n",
    "\n",
    "Accepting user input makes a program interactive. Getting input from the keyboard can be achieved in Python using `input(prompt)`.\n",
    "\n",
    "The prompt argument must be string(s). The function then reads a line from input, converts it to a **string** (stripping a trailing newline), and returns that. The returned value can be assigned to a variable for it to be used in the program.\n",
    "\n",
    "```\n",
    "my_name = input(\"Enter your name:\")\n",
    "```\n",
    "\n",
    "The data returned by input function is a string. Proper conversion(s) is required to ensure your program run correctly!"
   ]
  },
  {
   "cell_type": "markdown",
   "id": "789340dd-3b5e-4b5d-9d3a-706c8a1cd7bf",
   "metadata": {},
   "source": [
    "## Topical Exercise\n"
   ]
  },
  {
   "cell_type": "markdown",
   "id": "34a1cf1b-8054-4a6f-a05e-3f1e442b39b4",
   "metadata": {},
   "source": [
    "1. Write a program to ask for the user's name, age and the current school.\n",
    "\n",
    "Sample output\n",
    "```\n",
    "Name: Peter Tan\n",
    "Age: 14\n",
    "School: SST\n",
    "```"
   ]
  },
  {
   "cell_type": "code",
   "execution_count": 1,
   "id": "c10fd758-73a9-4b8a-9bb0-ec6b1111112b",
   "metadata": {},
   "outputs": [
    {
     "ename": "KeyboardInterrupt",
     "evalue": "Interrupted by user",
     "output_type": "error",
     "traceback": [
      "\u001b[0;31m---------------------------------------------------------------------------\u001b[0m",
      "\u001b[0;31mKeyboardInterrupt\u001b[0m                         Traceback (most recent call last)",
      "Cell \u001b[0;32mIn[1], line 3\u001b[0m\n\u001b[1;32m      1\u001b[0m \u001b[38;5;66;03m# Code\u001b[39;00m\n\u001b[1;32m      2\u001b[0m name \u001b[38;5;241m=\u001b[39m \u001b[38;5;28minput\u001b[39m(\u001b[38;5;124m\"\u001b[39m\u001b[38;5;124mWhats your name?\u001b[39m\u001b[38;5;124m\"\u001b[39m)\n\u001b[0;32m----> 3\u001b[0m age \u001b[38;5;241m=\u001b[39m \u001b[38;5;28;43minput\u001b[39;49m\u001b[43m(\u001b[49m\u001b[38;5;124;43m\"\u001b[39;49m\u001b[38;5;124;43mWhats your age?\u001b[39;49m\u001b[38;5;124;43m\"\u001b[39;49m\u001b[43m)\u001b[49m\n\u001b[1;32m      4\u001b[0m school \u001b[38;5;241m=\u001b[39m \u001b[38;5;28minput\u001b[39m(\u001b[38;5;124m\"\u001b[39m\u001b[38;5;124mWhats your school?\u001b[39m\u001b[38;5;124m\"\u001b[39m)\n",
      "File \u001b[0;32m~/Library/Python/3.12/lib/python/site-packages/ipykernel/kernelbase.py:1282\u001b[0m, in \u001b[0;36mKernel.raw_input\u001b[0;34m(self, prompt)\u001b[0m\n\u001b[1;32m   1280\u001b[0m     msg \u001b[38;5;241m=\u001b[39m \u001b[38;5;124m\"\u001b[39m\u001b[38;5;124mraw_input was called, but this frontend does not support input requests.\u001b[39m\u001b[38;5;124m\"\u001b[39m\n\u001b[1;32m   1281\u001b[0m     \u001b[38;5;28;01mraise\u001b[39;00m StdinNotImplementedError(msg)\n\u001b[0;32m-> 1282\u001b[0m \u001b[38;5;28;01mreturn\u001b[39;00m \u001b[38;5;28;43mself\u001b[39;49m\u001b[38;5;241;43m.\u001b[39;49m\u001b[43m_input_request\u001b[49m\u001b[43m(\u001b[49m\n\u001b[1;32m   1283\u001b[0m \u001b[43m    \u001b[49m\u001b[38;5;28;43mstr\u001b[39;49m\u001b[43m(\u001b[49m\u001b[43mprompt\u001b[49m\u001b[43m)\u001b[49m\u001b[43m,\u001b[49m\n\u001b[1;32m   1284\u001b[0m \u001b[43m    \u001b[49m\u001b[38;5;28;43mself\u001b[39;49m\u001b[38;5;241;43m.\u001b[39;49m\u001b[43m_parent_ident\u001b[49m\u001b[43m[\u001b[49m\u001b[38;5;124;43m\"\u001b[39;49m\u001b[38;5;124;43mshell\u001b[39;49m\u001b[38;5;124;43m\"\u001b[39;49m\u001b[43m]\u001b[49m\u001b[43m,\u001b[49m\n\u001b[1;32m   1285\u001b[0m \u001b[43m    \u001b[49m\u001b[38;5;28;43mself\u001b[39;49m\u001b[38;5;241;43m.\u001b[39;49m\u001b[43mget_parent\u001b[49m\u001b[43m(\u001b[49m\u001b[38;5;124;43m\"\u001b[39;49m\u001b[38;5;124;43mshell\u001b[39;49m\u001b[38;5;124;43m\"\u001b[39;49m\u001b[43m)\u001b[49m\u001b[43m,\u001b[49m\n\u001b[1;32m   1286\u001b[0m \u001b[43m    \u001b[49m\u001b[43mpassword\u001b[49m\u001b[38;5;241;43m=\u001b[39;49m\u001b[38;5;28;43;01mFalse\u001b[39;49;00m\u001b[43m,\u001b[49m\n\u001b[1;32m   1287\u001b[0m \u001b[43m\u001b[49m\u001b[43m)\u001b[49m\n",
      "File \u001b[0;32m~/Library/Python/3.12/lib/python/site-packages/ipykernel/kernelbase.py:1325\u001b[0m, in \u001b[0;36mKernel._input_request\u001b[0;34m(self, prompt, ident, parent, password)\u001b[0m\n\u001b[1;32m   1322\u001b[0m \u001b[38;5;28;01mexcept\u001b[39;00m \u001b[38;5;167;01mKeyboardInterrupt\u001b[39;00m:\n\u001b[1;32m   1323\u001b[0m     \u001b[38;5;66;03m# re-raise KeyboardInterrupt, to truncate traceback\u001b[39;00m\n\u001b[1;32m   1324\u001b[0m     msg \u001b[38;5;241m=\u001b[39m \u001b[38;5;124m\"\u001b[39m\u001b[38;5;124mInterrupted by user\u001b[39m\u001b[38;5;124m\"\u001b[39m\n\u001b[0;32m-> 1325\u001b[0m     \u001b[38;5;28;01mraise\u001b[39;00m \u001b[38;5;167;01mKeyboardInterrupt\u001b[39;00m(msg) \u001b[38;5;28;01mfrom\u001b[39;00m \u001b[38;5;28;01mNone\u001b[39;00m\n\u001b[1;32m   1326\u001b[0m \u001b[38;5;28;01mexcept\u001b[39;00m \u001b[38;5;167;01mException\u001b[39;00m:\n\u001b[1;32m   1327\u001b[0m     \u001b[38;5;28mself\u001b[39m\u001b[38;5;241m.\u001b[39mlog\u001b[38;5;241m.\u001b[39mwarning(\u001b[38;5;124m\"\u001b[39m\u001b[38;5;124mInvalid Message:\u001b[39m\u001b[38;5;124m\"\u001b[39m, exc_info\u001b[38;5;241m=\u001b[39m\u001b[38;5;28;01mTrue\u001b[39;00m)\n",
      "\u001b[0;31mKeyboardInterrupt\u001b[0m: Interrupted by user"
     ]
    }
   ],
   "source": [
    "# Code\n",
    "name = input(\"Whats your name?\")\n",
    "age = input(\"Whats your age?\")\n",
    "school = input(\"Whats your school?\")"
   ]
  }
 ],
 "metadata": {
  "kernelspec": {
   "display_name": "Python 3",
   "language": "python",
   "name": "python3"
  },
  "language_info": {
   "codemirror_mode": {
    "name": "ipython",
    "version": 3
   },
   "file_extension": ".py",
   "mimetype": "text/x-python",
   "name": "python",
   "nbconvert_exporter": "python",
   "pygments_lexer": "ipython3",
   "version": "3.12.4"
  }
 },
 "nbformat": 4,
 "nbformat_minor": 5
}
