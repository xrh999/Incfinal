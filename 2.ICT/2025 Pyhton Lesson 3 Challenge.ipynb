{
 "cells": [
  {
   "cell_type": "markdown",
   "id": "64018600-7119-43eb-94b1-ad1a2d32700b",
   "metadata": {},
   "source": [
    "## Python Programming Challenge: Math Riddle Game\n",
    "\n",
    "Your task is to create a simple interactive Math Riddle Game. The game asks the user to enter a positive integer and then applies these rules:\n",
    "\n",
    "1. If the number is divisible by both 3 and 5, print \"FizzBuzz!\".\n",
    "2. If the number is divisible by 3 only, print \"Fizz!\".\n",
    "3. If the number is divisible by 5 only, print \"Buzz!\".\n",
    "4. If the number is not divisible by 3 or 5, calculate the square of the number and print: \"Your number squared is: <square>\"\n",
    "\n",
    "### Example runs:\n",
    "**Example 1:**\n",
    "Enter a positive integer: 15 \\\n",
    "FizzBuzz!\n",
    "\n",
    "**Example 2:**\n",
    "Enter a positive integer: 9 \\\n",
    "Fizz!\n",
    "\n",
    "**Example 3:**\n",
    "Enter a positive integer: 10 \\\n",
    "Buzz!\n",
    "\n",
    "**Example 4:**\n",
    "Enter a positive integer: 4 \\\n",
    "Your number squared is: 16\n"
   ]
  },
  {
   "cell_type": "code",
   "execution_count": null,
   "id": "b3d40bd6-1eba-4fcf-8778-fc042632d240",
   "metadata": {},
   "outputs": [
    {
     "name": "stdout",
     "output_type": "stream",
     "text": [
      "FizzBuzz\n"
     ]
    }
   ],
   "source": [
    "def mathGame(number):\n",
    "    if number%5==0 and number%3 == 0:\n",
    "        print(\"FizzBuzz\")\n",
    "        return\n",
    "    else:\n",
    "        if number%5==0:\n",
    "            print(\"Buzz\")\n",
    "            return\n",
    "        elif number%3==0:\n",
    "            print(\"Fizz\")\n",
    "            return\n",
    "        else:\n",
    "            print(\"Your number squared is: \",number**2)\n",
    "            return\n",
    "mathGame(int(input(\"Enter a positive integer: \")))"
   ]
  }
 ],
 "metadata": {
  "kernelspec": {
   "display_name": "Python 3",
   "language": "python",
   "name": "python3"
  },
  "language_info": {
   "codemirror_mode": {
    "name": "ipython",
    "version": 3
   },
   "file_extension": ".py",
   "mimetype": "text/x-python",
   "name": "python",
   "nbconvert_exporter": "python",
   "pygments_lexer": "ipython3",
   "version": "3.12.4"
  }
 },
 "nbformat": 4,
 "nbformat_minor": 5
}
