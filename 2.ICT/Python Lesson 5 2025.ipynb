{
 "cells": [
  {
   "cell_type": "markdown",
   "id": "b28ff480-11e0-4208-98ad-be34c45bb8c9",
   "metadata": {},
   "source": [
    "# Repetitions 2"
   ]
  },
  {
   "cell_type": "markdown",
   "id": "83936737-7994-4d22-a94c-fef0c61cc779",
   "metadata": {},
   "source": [
    "## while\n",
    "`while` statement is used when the amount of repetition is not known during compile time.  \n",
    "The basic syntax:  \n",
    "```\n",
    "while (condition):\n",
    "    codes to be executed when the condition is true\n",
    "```"
   ]
  },
  {
   "cell_type": "markdown",
   "id": "d21d385c-462f-478c-b406-164060e0f941",
   "metadata": {},
   "source": [
    "### Example 1\n",
    "\n",
    "This example shows how `for-in` may be replaced by a `while` loop."
   ]
  },
  {
   "cell_type": "code",
   "execution_count": 1,
   "id": "26cd46ff-1d19-48ca-b174-049ab373795a",
   "metadata": {},
   "outputs": [
    {
     "name": "stdout",
     "output_type": "stream",
     "text": [
      "0\n",
      "1\n",
      "2\n",
      "3\n",
      "4\n",
      "5\n",
      "6\n",
      "7\n",
      "8\n",
      "9\n"
     ]
    }
   ],
   "source": [
    "number = 0\n",
    "\n",
    "while number < 10:\n",
    "    print(number)\n",
    "    number += 1\n",
    "    "
   ]
  },
  {
   "cell_type": "markdown",
   "id": "ecd5948e-3d1b-4740-bfa3-d5695bbccd82",
   "metadata": {},
   "source": [
    "### Common Pitfalls of `while` loop\n",
    "\n",
    "Study Examples 2 and 3.\n",
    "\n",
    "**Without** running, suggest the problems with Examples 2 and 3."
   ]
  },
  {
   "cell_type": "markdown",
   "id": "32553bc5-6397-42c1-9458-9e831a5a4b49",
   "metadata": {},
   "source": [
    "### Example 2"
   ]
  },
  {
   "cell_type": "code",
   "execution_count": 2,
   "id": "026c86b9-cfd9-43f3-a80f-09c8343011e1",
   "metadata": {},
   "outputs": [],
   "source": [
    "number = 10\n",
    "\n",
    "while number < 10:\n",
    "    print(number)\n",
    "    number += 1"
   ]
  },
  {
   "cell_type": "markdown",
   "id": "d1e377fb-a2df-4f85-8047-0871aa4b9e0b",
   "metadata": {},
   "source": [
    "### Example 3"
   ]
  },
  {
   "cell_type": "code",
   "execution_count": null,
   "id": "334053b9-7d0e-4663-945a-96b5c7bc2fd2",
   "metadata": {},
   "outputs": [],
   "source": [
    "number = 0\n",
    "\n",
    "while number < 10:\n",
    "    print(number)\n"
   ]
  },
  {
   "cell_type": "markdown",
   "id": "4a5c852c-d4e6-4d8e-8e08-47c611ac3dcf",
   "metadata": {},
   "source": [
    "#### Reflection 1\n",
    "\n",
    "Try running Example 2 and 3. Explain what are the problems with these two examples.\n",
    "\n",
    "**Your Response**\n"
   ]
  },
  {
   "cell_type": "markdown",
   "id": "6a3ff9dc-b7ba-4916-9100-51945b414a97",
   "metadata": {},
   "source": [
    "in example 2 there is no code to start it so it does nothing\n",
    "in example 3 there is no code to stop it from running which could result in your computer crashing"
   ]
  },
  {
   "cell_type": "markdown",
   "id": "d46c2241-35a8-462e-a4dd-2cd2157576bd",
   "metadata": {},
   "source": [
    "Copy the codes of Example 2 and 3 into this cell and edit them such that they terminate after some repetitions."
   ]
  },
  {
   "cell_type": "code",
   "execution_count": 5,
   "id": "209f9383-9bc3-4a18-81ac-a7aaa52d8d95",
   "metadata": {},
   "outputs": [
    {
     "name": "stdout",
     "output_type": "stream",
     "text": [
      "100\n",
      "99\n",
      "98\n",
      "97\n",
      "96\n",
      "95\n",
      "94\n",
      "93\n",
      "92\n",
      "91\n",
      "90\n",
      "89\n",
      "88\n",
      "87\n",
      "86\n",
      "85\n",
      "84\n",
      "83\n",
      "82\n",
      "81\n",
      "80\n",
      "79\n",
      "78\n",
      "77\n",
      "76\n",
      "75\n",
      "74\n",
      "73\n",
      "72\n",
      "71\n",
      "70\n",
      "69\n",
      "68\n",
      "67\n",
      "66\n",
      "65\n",
      "64\n",
      "63\n",
      "62\n",
      "61\n",
      "60\n",
      "59\n",
      "58\n",
      "57\n",
      "56\n",
      "55\n",
      "54\n",
      "53\n",
      "52\n",
      "51\n",
      "50\n",
      "49\n",
      "48\n",
      "47\n",
      "46\n",
      "45\n",
      "44\n",
      "43\n",
      "42\n",
      "41\n",
      "40\n",
      "39\n",
      "38\n",
      "37\n",
      "36\n",
      "35\n",
      "34\n",
      "33\n",
      "32\n",
      "31\n",
      "30\n",
      "29\n",
      "28\n",
      "27\n",
      "26\n",
      "25\n",
      "24\n",
      "23\n",
      "22\n",
      "21\n",
      "20\n",
      "19\n",
      "18\n",
      "17\n",
      "16\n",
      "15\n",
      "14\n",
      "13\n",
      "12\n",
      "11\n"
     ]
    }
   ],
   "source": [
    "# Example 2 - corrected\n",
    "number = 100\n",
    "\n",
    "while number > 10:\n",
    "    print(number)\n",
    "    number -= 1"
   ]
  },
  {
   "cell_type": "code",
   "execution_count": 6,
   "id": "3cb91f8b-9734-486d-bece-bc0f93ddcf57",
   "metadata": {},
   "outputs": [
    {
     "name": "stdout",
     "output_type": "stream",
     "text": [
      "0\n",
      "1\n",
      "2\n",
      "3\n",
      "4\n",
      "5\n",
      "6\n",
      "7\n",
      "8\n",
      "9\n"
     ]
    }
   ],
   "source": [
    "# Example 3 - corrected\n",
    "number = 0\n",
    "\n",
    "while number < 10:\n",
    "    print(number)\n",
    "    number +=1"
   ]
  },
  {
   "cell_type": "markdown",
   "id": "b4e73406-b211-4586-8cc7-c33f7439aef2",
   "metadata": {},
   "source": [
    "## Applications of `while` loop\n",
    "\n",
    "`while` is used to execute code blocks until a condition is met. Below are some example uses of `while` loops in programming."
   ]
  },
  {
   "cell_type": "markdown",
   "id": "cca49f79-5cf2-4899-9e07-7b0a30720f97",
   "metadata": {},
   "source": [
    "### Example 4\n",
    "\n",
    "This basic example shows how a code block gets repeatedly executed in a `while` loop until the terminating condition is achieved."
   ]
  },
  {
   "cell_type": "code",
   "execution_count": null,
   "id": "80aaf169-af31-47b3-999b-efd19fbe2ae0",
   "metadata": {},
   "outputs": [],
   "source": [
    "total = 0\n",
    "number = 1\n",
    "\n",
    "while number <= 10:\n",
    "    total += number\n",
    "    number += 1\n",
    "\n",
    "print(total)"
   ]
  },
  {
   "cell_type": "markdown",
   "id": "0697722b-05f4-4370-b492-5764b7d1fdb3",
   "metadata": {},
   "source": [
    "### Example 5\n",
    "\n",
    "This examples uses `while` to continuously obtain data from the user until the user entered a \"quit\" character. The \"quit\" character is defined by the programmer to meet the terminating condition."
   ]
  },
  {
   "cell_type": "code",
   "execution_count": null,
   "id": "f202783e-689a-4fb8-b488-60714641dcdc",
   "metadata": {},
   "outputs": [],
   "source": [
    "# Example 5\n",
    "\n",
    "total = 0\n",
    "mark = 0\n",
    "count = 0\n",
    "\n",
    "mark = float(input(\"Enter a mark (-1 to quit):\"))\n",
    "\n",
    "while mark >= 0:\n",
    "    total = mark + total\n",
    "    count += 1\n",
    "    mark = float(input(\"Enter a mark (-1 to quit):\"))\n",
    "\n",
    "\n",
    "print(\"Total:\", total)\n",
    "print(\"Average:\", total / count)"
   ]
  },
  {
   "cell_type": "markdown",
   "id": "52a32ac3-c0e0-4862-bbb6-4ffc74a3afe3",
   "metadata": {},
   "source": [
    "### Example 6\n",
    "\n",
    "This example uses `True` as the condition with a `break` inside the loop to break out if the condition is met."
   ]
  },
  {
   "cell_type": "code",
   "execution_count": null,
   "id": "82c5b214-71e9-4391-876e-b52f93a7cb38",
   "metadata": {},
   "outputs": [],
   "source": [
    "# Example 6\n",
    "import random\n",
    "\n",
    "tries = 0\n",
    "throw = 0\n",
    "\n",
    "while True:\n",
    "    throw = random.randint(1, 6)\n",
    "    print(throw)\n",
    "    tries += 1\n",
    "    if throw == 6:\n",
    "        break\n",
    "\n",
    "print(\"You threw\", tries, \"time/s before getting a `six`.\")\n",
    "if tries == 1:\n",
    "    print(\"You are lucky today!\")"
   ]
  },
  {
   "cell_type": "markdown",
   "id": "9177465c-8da1-4736-8db1-5134ab7ec293",
   "metadata": {},
   "source": [
    "#### Reflection 2\n",
    "\n",
    "Summarise the ways to terminate a `while` loop."
   ]
  },
  {
   "cell_type": "markdown",
   "id": "59101563-a46c-4fef-932e-45b70a4e8c63",
   "metadata": {},
   "source": [
    "**Sample response**\n",
    "\n",
    "First way: the terminating condition changes inside the loop. After each loop, the condition is checked against the `while` condition.\n",
    "\n",
    "Second way: Check the user input against the terminating condition.\n",
    "\n",
    "Third way: Uses a break when a condition is met within the loop. Uses `while True:`.\n"
   ]
  },
  {
   "cell_type": "markdown",
   "id": "e52a132c-d3ee-4a7e-9462-463040088857",
   "metadata": {},
   "source": [
    "## Programming Exercises"
   ]
  },
  {
   "cell_type": "markdown",
   "id": "c72e48fa-65ff-4965-b944-9062867530e4",
   "metadata": {},
   "source": [
    "### Question 1\n",
    "\n",
    "1 (a) Ask the user to enter a positive integer, *n*."
   ]
  },
  {
   "cell_type": "code",
   "execution_count": 12,
   "id": "f4f12171-d9b5-45ff-a104-8456ab0d2e33",
   "metadata": {},
   "outputs": [],
   "source": [
    "# Code\n",
    "n = int(input(\"Please enter a positive interger: \"))"
   ]
  },
  {
   "cell_type": "markdown",
   "id": "211fc7c3-4797-4942-a693-e5f542d0ea9e",
   "metadata": {},
   "source": [
    "1 (b) Using `while`, achieve the following as described.\n",
    "\n",
    "1 (b) (i) Output the integers from 0 to *n* -1 "
   ]
  },
  {
   "cell_type": "code",
   "execution_count": null,
   "id": "b991d2f7-6135-4883-bf37-99e0a0bdf257",
   "metadata": {},
   "outputs": [
    {
     "name": "stdout",
     "output_type": "stream",
     "text": [
      "0\n",
      "1\n",
      "2\n",
      "3\n",
      "4\n",
      "5\n",
      "6\n",
      "7\n",
      "8\n",
      "9\n",
      "10\n",
      "11\n",
      "12\n",
      "13\n",
      "14\n",
      "15\n",
      "16\n",
      "17\n",
      "18\n",
      "19\n",
      "20\n",
      "21\n",
      "22\n",
      "23\n",
      "24\n",
      "25\n",
      "26\n",
      "27\n",
      "28\n",
      "29\n",
      "30\n",
      "31\n",
      "32\n",
      "33\n",
      "34\n",
      "35\n",
      "36\n",
      "37\n",
      "38\n",
      "39\n",
      "40\n",
      "41\n",
      "42\n",
      "43\n",
      "44\n",
      "45\n",
      "46\n",
      "47\n",
      "48\n",
      "49\n",
      "50\n",
      "51\n",
      "52\n",
      "53\n",
      "54\n",
      "55\n",
      "56\n",
      "57\n",
      "58\n",
      "59\n",
      "60\n",
      "61\n",
      "62\n",
      "63\n",
      "64\n",
      "65\n",
      "66\n",
      "67\n",
      "68\n",
      "69\n",
      "70\n",
      "71\n",
      "72\n",
      "73\n",
      "74\n",
      "75\n",
      "76\n",
      "77\n",
      "78\n",
      "79\n",
      "80\n",
      "81\n",
      "82\n",
      "83\n",
      "84\n",
      "85\n",
      "86\n",
      "87\n",
      "88\n",
      "89\n",
      "90\n",
      "91\n",
      "92\n",
      "93\n",
      "94\n",
      "95\n",
      "96\n",
      "97\n",
      "98\n",
      "99\n"
     ]
    }
   ],
   "source": [
    "# Code \n",
    "num = 0 \n",
    "\n",
    "while num < n:\n",
    "    print(num)\n",
    "    num += 1\n"
   ]
  },
  {
   "cell_type": "markdown",
   "id": "37d11894-8af8-476d-abd6-5099fc36db2a",
   "metadata": {},
   "source": [
    "1 (b) (ii)Output the integers from *n* to 0. "
   ]
  },
  {
   "cell_type": "code",
   "execution_count": 14,
   "id": "88356fc3-3a81-4ac4-b699-5bbe398b5491",
   "metadata": {},
   "outputs": [
    {
     "name": "stdout",
     "output_type": "stream",
     "text": [
      "0\n",
      "1\n",
      "2\n",
      "3\n",
      "4\n",
      "5\n",
      "6\n",
      "7\n",
      "8\n",
      "9\n",
      "10\n",
      "11\n",
      "12\n",
      "13\n",
      "14\n",
      "15\n",
      "16\n",
      "17\n",
      "18\n",
      "19\n",
      "20\n",
      "21\n",
      "22\n",
      "23\n",
      "24\n",
      "25\n",
      "26\n",
      "27\n",
      "28\n",
      "29\n",
      "30\n",
      "31\n",
      "32\n",
      "33\n",
      "34\n",
      "35\n",
      "36\n",
      "37\n",
      "38\n",
      "39\n",
      "40\n",
      "41\n",
      "42\n",
      "43\n",
      "44\n",
      "45\n",
      "46\n",
      "47\n",
      "48\n",
      "49\n",
      "50\n",
      "51\n",
      "52\n",
      "53\n",
      "54\n",
      "55\n",
      "56\n",
      "57\n",
      "58\n",
      "59\n",
      "60\n",
      "61\n",
      "62\n",
      "63\n",
      "64\n",
      "65\n",
      "66\n",
      "67\n",
      "68\n",
      "69\n",
      "70\n",
      "71\n",
      "72\n",
      "73\n",
      "74\n",
      "75\n",
      "76\n",
      "77\n",
      "78\n",
      "79\n",
      "80\n",
      "81\n",
      "82\n",
      "83\n",
      "84\n",
      "85\n",
      "86\n",
      "87\n",
      "88\n",
      "89\n",
      "90\n",
      "91\n",
      "92\n",
      "93\n",
      "94\n",
      "95\n",
      "96\n",
      "97\n",
      "98\n",
      "99\n",
      "100\n"
     ]
    }
   ],
   "source": [
    "# Code\n",
    "num = 0 \n",
    "\n",
    "while num <= n:\n",
    "    print(num)\n",
    "    num += 1"
   ]
  },
  {
   "cell_type": "markdown",
   "id": "a5e3d8d1-53e4-46d2-8de4-6bc80cce3adf",
   "metadata": {},
   "source": [
    "### Question 2\n",
    "\n",
    "Write a Python program that prompts the user to enter a passcode. The program should continue asking until the user enters the correct passcode. Once the correct passcode is entered, display a success message and exit the loop.\n",
    "\n",
    "*Requirements:*\n",
    "- Use a while loop to keep asking for input until the correct passcode is provided.\n",
    "- Define a pre-set passcode in the code (e.g., \"112233\").\n",
    "- If the entered passcode is incorrect, print \"Incorrect passcode. Try again.\"\n",
    "- If the entered passcode is correct, print \"Access granted!\" and terminate."
   ]
  },
  {
   "cell_type": "code",
   "execution_count": null,
   "id": "c96a139f-86c0-4569-bf17-efa077ac14e6",
   "metadata": {},
   "outputs": [
    {
     "name": "stdout",
     "output_type": "stream",
     "text": [
      "Indcorrect passcoe. Try again\n",
      "Indcorrect passcoe. Try again\n",
      "Indcorrect passcoe. Try again\n",
      "Indcorrect passcoe. Try again\n",
      "Indcorrect passcoe. Try again\n",
      "Indcorrect passcoe. Try again\n",
      "Indcorrect passcoe. Try again\n",
      "Indcorrect passcoe. Try again\n",
      "Indcorrect passcoe. Try again\n",
      "Indcorrect passcoe. Try again\n",
      "Indcorrect passcoe. Try again\n",
      "Indcorrect passcoe. Try again\n",
      "Indcorrect passcoe. Try again\n",
      "Indcorrect passcoe. Try again\n"
     ]
    }
   ],
   "source": [
    "# Code\n",
    "password = 123456\n",
    "ans = None\n",
    "while True:\n",
    "    attempt = input(\"Please enter your password\")\n",
    "    if attempt != password:\n",
    "        print(\"Indcorrect passcoe. Try again\")\n",
    "    elif attempt == password:\n",
    "        print(\"Access granted!\")\n",
    "        break\n"
   ]
  },
  {
   "cell_type": "markdown",
   "id": "6461a665-651c-4d95-ae65-e4c88cd072f2",
   "metadata": {},
   "source": [
    "### Question 3\n",
    "\n",
    "Write a program to continuously accept a user input of positive integers and output the following:\n",
    "\n",
    "- Mean of **even** numbers\n",
    "- Range of the numbers entered (range is the difference between maximum and minimum.)\n",
    "\n",
    "The user may input a negative number to terminate the user input and display the results."
   ]
  },
  {
   "cell_type": "code",
   "execution_count": null,
   "id": "34adb344-cf1f-4aef-bba5-6a45f0b40403",
   "metadata": {},
   "outputs": [],
   "source": [
    "# Code\n"
   ]
  }
 ],
 "metadata": {
  "kernelspec": {
   "display_name": "Python 3",
   "language": "python",
   "name": "python3"
  },
  "language_info": {
   "codemirror_mode": {
    "name": "ipython",
    "version": 3
   },
   "file_extension": ".py",
   "mimetype": "text/x-python",
   "name": "python",
   "nbconvert_exporter": "python",
   "pygments_lexer": "ipython3",
   "version": "3.12.4"
  }
 },
 "nbformat": 4,
 "nbformat_minor": 5
}
