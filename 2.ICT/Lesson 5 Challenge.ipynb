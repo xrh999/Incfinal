{
 "cells": [
  {
   "cell_type": "markdown",
   "id": "8dec2ed3-7508-45b5-bf15-816661e295ab",
   "metadata": {},
   "source": [
    "### Question 1\n",
    "\n",
    "Create a Point-of-Sales(POS) System for a restaurant.\n",
    "\n",
    "* You should take into account of the service charge and GST.\n",
    "* The user should continuously enter the menu item number until a terminating condition is met i.e. 0.\n",
    "* The program should output the total cost payable, the service charge and GST.\n",
    "\n",
    " **Beverages**\n",
    "\n",
    "1. Ice Lemon Tea - \\$3.99 \n",
    "2. Ice Coffee - \\$4.99 \n",
    "3. Ice Tea - \\$4.99 \n",
    "4. Water - \\$0.50\n",
    "\n",
    "**Example**\n",
    "\n",
    "Service charge(%): 10\\\n",
    "GST rate(%): 9\\\n",
    "Enter the menu SN:\\\n",
    "1 Ice Lemon Tea\\\n",
    "2 Ice Coffee\\\n",
    "3 Ice Tea\\\n",
    "4 Water\\\n",
    "Enter 1, 2, 3 or 4. 0 to quit. 1\\\n",
    "Enter the menu SN:\\\n",
    "1 Ice Lemon Tea\\\n",
    "2 Ice Coffee\\\n",
    "3 Ice Tea\\\n",
    "4 Water\\\n",
    "Enter 1, 2, 3 or 4. 0 to quit. 1\\\n",
    "Enter the menu SN:\\\n",
    "1 Ice Lemon Tea\\\n",
    "2 Ice Coffee\\\n",
    "3 Ice Tea\\\n",
    "4 Water\\\n",
    "Enter 1, 2, 3 or 4. 0 to quit. 2\\\n",
    "Enter the menu SN:\\\n",
    "1 Ice Lemon Tea\\\n",
    "2 Ice Coffee\\\n",
    "3 Ice Tea\\\n",
    "4 Water\\\n",
    "Enter 1, 2, 3 or 4. 0 to quit. 3\\\n",
    "Enter the menu SN:\\\n",
    "1 Ice Lemon Tea\\\n",
    "2 Ice Coffee\\\n",
    "3 Ice Tea\\\n",
    "4 Water\\\n",
    "Enter 1, 2, 3 or 4. 0 to quit. 4\\\n",
    "Enter the menu SN:\\\n",
    "1 Ice Lemon Tea\\\n",
    "2 Ice Coffee\\\n",
    "3 Ice Tea\\\n",
    "4 Water\\\n",
    "Enter 1, 2, 3 or 4. 0 to quit. 0\n",
    "1. Ice Lemon Tea: 2 x 3.99\t  7.98\n",
    "2. Ice Coffee: 1 x 4.99\t  4.99\n",
    "3. Ice Tea: 1 x 4.99\t  4.99\n",
    "4. Water: 1 x 0.50\t  0.50\n",
    "\n",
    "Subtotal: 18.46\\\n",
    "Service charge: 1.85\\\n",
    "GST: 1.83\\\n",
    "Total amount payable:  22.13\\"
   ]
  },
  {
   "cell_type": "code",
   "execution_count": null,
   "id": "c3adf3ce-643f-4963-91c2-96b44b593964",
   "metadata": {},
   "outputs": [],
   "source": [
    "#Code\n",
    "\n"
   ]
  }
 ],
 "metadata": {
  "kernelspec": {
   "display_name": "Python 3 (ipykernel)",
   "language": "python",
   "name": "python3"
  },
  "language_info": {
   "codemirror_mode": {
    "name": "ipython",
    "version": 3
   },
   "file_extension": ".py",
   "mimetype": "text/x-python",
   "name": "python",
   "nbconvert_exporter": "python",
   "pygments_lexer": "ipython3",
   "version": "3.12.5"
  }
 },
 "nbformat": 4,
 "nbformat_minor": 5
}
