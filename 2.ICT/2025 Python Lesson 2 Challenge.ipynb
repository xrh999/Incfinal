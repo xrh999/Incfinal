{
 "cells": [
  {
   "cell_type": "markdown",
   "id": "64018600-7119-43eb-94b1-ad1a2d32700b",
   "metadata": {},
   "source": [
    "## Problem Statement: The Secret Code\n",
    "A mysterious organization encrypts numbers into a secret code using the following method:\n",
    "\n",
    "A user enters a positive integer (e.g., 246).\n",
    "The sum of its digits is calculated.\n",
    "The original number is floor-divided (//) by this sum to get a quotient.\n",
    "The original number is modulus-divided (%) by this sum to get a remainder.\n",
    "The final secret code is created by concatenating the quotient and remainder into a string.\n",
    "\n",
    "Example Walkthrough:\n",
    "\n",
    "- User enters: 246\n",
    "- Sum of digits: 2 + 4 + 6 = 12\n",
    "- Quotient: 246 // 12 = 20\n",
    "- Remainder: 246 % 12 = 6\n",
    "- Secret Code: \"206\"\n",
    "\n"
   ]
  },
  {
   "cell_type": "code",
   "execution_count": 1,
   "id": "98a69bbe-e26a-4892-bebd-e986661e5251",
   "metadata": {},
   "outputs": [
    {
     "name": "stdout",
     "output_type": "stream",
     "text": [
      "206\n"
     ]
    }
   ],
   "source": [
    "num = input(\"input a positive integer: \")\n",
    "sumOfDigits = int()\n",
    "for i in num:\n",
    "    sumOfDigits += int(i)\n",
    "quotient = int(num) // sumOfDigits\n",
    "remainder = int(num) % sumOfDigits\n",
    "secretCode = f\"{quotient}{remainder}\"\n",
    "print(secretCode)"
   ]
  }
 ],
 "metadata": {
  "kernelspec": {
   "display_name": "Python 3",
   "language": "python",
   "name": "python3"
  },
  "language_info": {
   "codemirror_mode": {
    "name": "ipython",
    "version": 3
   },
   "file_extension": ".py",
   "mimetype": "text/x-python",
   "name": "python",
   "nbconvert_exporter": "python",
   "pygments_lexer": "ipython3",
   "version": "3.12.4"
  }
 },
 "nbformat": 4,
 "nbformat_minor": 5
}
