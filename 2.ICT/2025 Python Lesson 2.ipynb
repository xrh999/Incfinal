{
 "cells": [
  {
   "cell_type": "markdown",
   "id": "b28ff480-11e0-4208-98ad-be34c45bb8c9",
   "metadata": {},
   "source": [
    "# Data Types and Operations"
   ]
  },
  {
   "cell_type": "markdown",
   "id": "70396231-6ddf-4e25-82bc-21f359ea685c",
   "metadata": {},
   "source": [
    "## Data Types\n",
    "\n",
    "### Built-in Data Types\n",
    "\n",
    "There are six built-in types in Python: *numerics & boolean, sequences, mappings, classes, instances and exceptions*. \n",
    "For this basic Python module, only numberics, boolean and text sequence are covered."
   ]
  },
  {
   "cell_type": "markdown",
   "id": "c45f6703-c13e-4c5d-a2ff-0236d51f5c51",
   "metadata": {},
   "source": [
    "#### Numerics \n",
    "There are three distinct numeric types: integers, floating point numbers, and complex numbers. In addition, Booleans are a subtype of integers.\n",
    "\n",
    "All `int` and `float` supports the following arithmetic operation\n",
    "- `x + y` sum of x and y\n",
    "- `x - y` difference of x and y\n",
    "- `x * y` product of x and y\n",
    "- `x / y` quotient of x and y\n",
    "- `x // y` floored quotient of x and y\n",
    "- `x % y` remainder of `x / y`\n",
    "- `-x` negate x\n",
    "- `abs(x)` absolute value or magnitude of x\n",
    "- `int(x)` x converted to integer\n",
    "- `float(x)` x converted to floating point\n",
    "- `pow(x, y)` x to the power y\n",
    "- `x ** y` x to the power of y\n",
    "\n",
    "#### Reading and Assigning at the same time\n",
    "You can take value from one variable, manipulate it and then assign the new value to another variable.\n",
    "> `book_cost = 5.5`  \n",
    "> `gst = book_cost * 0.08`\n",
    "\n",
    "You can even manipulate the value and then re-assigned back to itself\n",
    "> `age = 14`  \n",
    "> `age = age + 1`"
   ]
  },
  {
   "cell_type": "markdown",
   "id": "834ed752-ee52-432c-81c4-5f4ab72ec93d",
   "metadata": {},
   "source": [
    "#### Numerical Operations\n",
    "\n",
    "Numerical data can be operated using mathematical operators.\n",
    "\n",
    "Both Examples 1 and 2 print out the area and perimeter of a rectangle. Study these two examples and complete **Reflection 1**."
   ]
  },
  {
   "cell_type": "code",
   "execution_count": null,
   "id": "ba443ec6-96b1-446a-86d5-3349de2c3add",
   "metadata": {},
   "outputs": [],
   "source": [
    "# Find the area and perimeter of a 10 by 5 rectangle\n",
    "\n",
    "# Declaring variables needed\n",
    "length = 10\n",
    "width = 5"
   ]
  },
  {
   "cell_type": "code",
   "execution_count": null,
   "id": "330aa72e-d66d-4803-a8fc-bfeacd553eda",
   "metadata": {},
   "outputs": [],
   "source": [
    "# Example 1\n",
    "\n",
    "area = length * width\n",
    "perimeter = (2 * length) + (2 * width)\n",
    "\n",
    "print(\"Area: \", area)\n",
    "print(\"Perimeter: \", perimeter)"
   ]
  },
  {
   "cell_type": "code",
   "execution_count": null,
   "id": "fcbccd01-6c02-4041-b2c0-4a15ef104bf9",
   "metadata": {},
   "outputs": [],
   "source": [
    "# Example 2\n",
    "\n",
    "print(\"Area: \", 5 * 10)\n",
    "print(\"Perimeter: \", 2 * 5 + 2 * 10)"
   ]
  },
  {
   "cell_type": "markdown",
   "id": "28c4f611-010d-41d4-8891-57573835b279",
   "metadata": {},
   "source": [
    "### Reflection 1\n",
    "\n",
    "Describe the advantages of Example 1 over Example 2.\n",
    "\n",
    "**Your Response**"
   ]
  },
  {
   "cell_type": "markdown",
   "id": "06d88e10-68f0-418d-a67f-475a4f9d82c7",
   "metadata": {},
   "source": [
    "if u want to use the area  again in another part of the code you would need to look at the output of the previous code and copy the value of the area variable and use it in the new code."
   ]
  },
  {
   "cell_type": "markdown",
   "id": "e185b096-467f-4012-8940-2c3cb6eb13b1",
   "metadata": {},
   "source": [
    "#### Floor Division and Modulus Operator\n",
    "\n",
    "Floor division `//` evaluates to the quotient of a division operation.\n",
    "Modulus `%` evaluates to the remainder of a division operation. Example 3 shows how floored division and modulus may be used in a program."
   ]
  },
  {
   "cell_type": "markdown",
   "id": "63453f97-338e-4f05-8820-4b81de102f80",
   "metadata": {},
   "source": [
    "#### Example 3\n",
    "\n",
    "Declare two variables: `dividend` and `divisor`. Assign two integer values to them.\n",
    "\n",
    "Print out the quotient and remainder when the `dividend` is divided by the `divisor`.\n"
   ]
  },
  {
   "cell_type": "code",
   "execution_count": 2,
   "id": "8117bd89-85a5-4e18-8e75-7bda16d81163",
   "metadata": {},
   "outputs": [
    {
     "name": "stdout",
     "output_type": "stream",
     "text": [
      "Quotient: 33\n",
      "Remainder: 1\n"
     ]
    }
   ],
   "source": [
    "# Code\n",
    "dividend = 100\n",
    "divisor = 3\n",
    "quotient = dividend // divisor\n",
    "remainder = dividend % divisor\n",
    "print(\"Quotient:\", quotient)\n",
    "print(\"Remainder:\", remainder)"
   ]
  },
  {
   "cell_type": "markdown",
   "id": "6af0794b-5171-4019-898e-19ef9ae34d3c",
   "metadata": {},
   "source": [
    "#### Example 4\n",
    "There are x number of students. The class layout allows 6 seats per row. \n",
    "\n",
    "How many full rows are required to fully sits x students?\n",
    "\n",
    "How many seats are filled in the non-complete row?"
   ]
  },
  {
   "cell_type": "code",
   "execution_count": null,
   "id": "48bb8d4f-712a-4044-a37f-06abed64cea6",
   "metadata": {},
   "outputs": [],
   "source": [
    "# Code\n",
    "x = input(\"Enter the number of students: \")\n",
    "print(\"The number of full rows required to seat all the students is:\", x//6)\n",
    "print(\"There are a total of\", x%6, \"seats in the non-complete row.\")"
   ]
  },
  {
   "cell_type": "markdown",
   "id": "78d5f3f6-6eb9-491b-ac60-e90c1b386faa",
   "metadata": {},
   "source": [
    "#### Boolean \n",
    "Booleans represent truth values. The `bool` type has exactly two constant instances: `True` and `False`. It is used to determine which decision to take in a program.\n",
    "\n",
    "The built-in function `bool()` converts any value to a boolean, if the value can be interpreted as a truth value.\n",
    "\n",
    "`bool` is a subclass of `int`. In many numeric contexts, `False` and `True` behave like the integers 0 and 1, respectively. However, relying on this is discouraged; explicitly convert using `int()` instead."
   ]
  },
  {
   "cell_type": "markdown",
   "id": "73f36e71-67ab-4bac-89ed-29b2c0340f75",
   "metadata": {},
   "source": [
    "### Reflection 2\n",
    "Suggest(without running the cells) which values below are converted to False using `bool()`? \\\n",
    "\n",
    "1. 1\n",
    "2. 2\n",
    "3. 0\n",
    "4. -1\n",
    "5. \"a string\"\n",
    "6. \" \"\n",
    "7. \"\"\n",
    "\n",
    "**Your Response**\n"
   ]
  },
  {
   "cell_type": "markdown",
   "id": "9f7e2044-e6b4-497b-9a92-f2a172e2b4da",
   "metadata": {},
   "source": [
    "1. True\n",
    "2. True\n",
    "3. False\n",
    "4. True\n",
    "5. True\n",
    "6. True\n",
    "7. False"
   ]
  },
  {
   "cell_type": "markdown",
   "id": "1476f681-52b1-4365-97dc-2097d8bdebcb",
   "metadata": {},
   "source": [
    "Use \n",
    "`bool(expression)`\n",
    "to check."
   ]
  },
  {
   "cell_type": "code",
   "execution_count": null,
   "id": "c85c25e2-3a0b-470a-8e56-70220de4cead",
   "metadata": {},
   "outputs": [
    {
     "name": "stdout",
     "output_type": "stream",
     "text": [
      "True\n",
      "True\n",
      "False\n",
      "True\n",
      "True\n",
      "False\n",
      "True\n"
     ]
    }
   ],
   "source": [
    "# Run your code here to check.\n",
    "print(bool(1))\n",
    "print(bool(2))\n",
    "print(bool(0))\n",
    "print(bool(-1))\n",
    "print(bool(\"a string\"))\n",
    "print(bool(\"\"))\n",
    "print(bool(\" \"))"
   ]
  },
  {
   "cell_type": "markdown",
   "id": "7aa536a1-a12a-441f-adc1-c46564cf68d7",
   "metadata": {},
   "source": [
    "#### *None* Value\n",
    "A variable may have value missing or no suitable value assigned to it at some point during run time. Since Python will produce an error message when trying to retrieve a variable that has not been defined, that variable can be create and assigned a special None value to indicates the value is missing.  \n",
    "> `variable_1 = None` "
   ]
  },
  {
   "cell_type": "markdown",
   "id": "7153f71f-a2cb-4fc4-9894-a517c3c25080",
   "metadata": {},
   "source": [
    "#### Text Sequence\n",
    "Textual data in Python is handled with `str` objects, or strings. Strings are immutable sequences of characters (Unicode code points). String literals are written in a variety of ways:\n",
    "- Single quote `'This is a string'`, `'Hello'`\n",
    "- Double quotes `\"This is also a string\"`, `\"World\"`\n",
    "- Triple quotes `'''This is triple quotations'''`, `'''Programmer'''`\n",
    "\n",
    "*String methods* (non-exhaustive)\n",
    "- `str(x)` convert x to a string\n",
    "- `str.upper()` convert entire str to upper case letters\n",
    "- `str.lower()` convert entire str to lower case letters\n",
    "\n",
    "*Special escape characters*\n",
    "- `'\\n'` new line\n",
    "- `'\\t'` horizontal tab\n"
   ]
  },
  {
   "cell_type": "markdown",
   "id": "f61a2170-3f9e-4c5a-a0dc-bb47143db0c3",
   "metadata": {},
   "source": [
    "#### Example 5\n",
    "This example demonstrates how string may be manipulated using string functions."
   ]
  },
  {
   "cell_type": "code",
   "execution_count": null,
   "id": "ed071daa-12a1-4b38-a744-cfd18295d9a6",
   "metadata": {},
   "outputs": [],
   "source": [
    "string1 = \"Hello World\"\n",
    "string2 = string1.upper()\n",
    "print(string2)\n",
    "\n",
    "print(\"Hello\\nWorld!\")\n",
    "print(\"New\\tProgrammer\\t!!!\")"
   ]
  },
  {
   "cell_type": "markdown",
   "id": "66451b6b-6692-4214-bad7-a93a241374de",
   "metadata": {},
   "source": [
    "### Reflection 3\n",
    "\n",
    "**Arithmetic operators that works with string**\n",
    "\n",
    "Does strings work with arithmetic operators i.e. +, -, *, /?\n",
    "\n",
    "**Your Response**"
   ]
  },
  {
   "cell_type": "markdown",
   "id": "20b213b0-b76a-4b0a-8ca4-9ac084a8a358",
   "metadata": {},
   "source": [
    "only + and *"
   ]
  },
  {
   "cell_type": "markdown",
   "id": "bc1ed3d6-e47b-40a0-83fa-3f94f0f9edfb",
   "metadata": {},
   "source": [
    "### Type Casting\n",
    "\n",
    "Very often, a data needs to be converted to another type so that they may be operated upon, or used by certain functions. For example, `print()` function returns a string. However, if the user enters a numerical data, it is still returned as a string. Proper conversion, or type casting, is needed. \n",
    "\n",
    "In the exercise above, you use `bool(expression)` to cast a value to a boolean data type. Example 4 shows another way casting can be used."
   ]
  },
  {
   "cell_type": "markdown",
   "id": "ad436d2f-f316-4c73-a08e-6076af044c6d",
   "metadata": {},
   "source": [
    "#### Example 6\n",
    "Investigate the objects returned by the function `input`."
   ]
  },
  {
   "cell_type": "code",
   "execution_count": null,
   "id": "5c6f8414-a790-47e2-990f-ede324a52a0c",
   "metadata": {},
   "outputs": [
    {
     "ename": "NameError",
     "evalue": "name 'age' is not defined",
     "output_type": "error",
     "traceback": [
      "\u001b[0;31m---------------------------------------------------------------------------\u001b[0m",
      "\u001b[0;31mNameError\u001b[0m                                 Traceback (most recent call last)",
      "Cell \u001b[0;32mIn[11], line 8\u001b[0m\n\u001b[1;32m      2\u001b[0m current_year \u001b[38;5;241m=\u001b[39m \u001b[38;5;28minput\u001b[39m(\u001b[38;5;124m\"\u001b[39m\u001b[38;5;124mEnter the current year:\u001b[39m\u001b[38;5;124m\"\u001b[39m)\n\u001b[1;32m      4\u001b[0m \u001b[38;5;66;03m# Uncomment the relevant statement to study the effect of type casting.\u001b[39;00m\n\u001b[1;32m      5\u001b[0m \u001b[38;5;66;03m# age = current_year - year_of_birth \u001b[39;00m\n\u001b[1;32m      6\u001b[0m \u001b[38;5;66;03m# age = int(current_year) - int(year_of_birth)\u001b[39;00m\n\u001b[0;32m----> 8\u001b[0m \u001b[38;5;28mprint\u001b[39m(\u001b[38;5;124m\"\u001b[39m\u001b[38;5;124mAge:\u001b[39m\u001b[38;5;124m\"\u001b[39m, \u001b[43mage\u001b[49m)\n",
      "\u001b[0;31mNameError\u001b[0m: name 'age' is not defined"
     ]
    }
   ],
   "source": [
    "year_of_birth = input(\"Enter your birth year:\")\n",
    "current_year = input(\"Enter the current year:\")\n",
    "\n",
    "# Uncomment the relevant statement to study the effect of type casting.\n",
    "age = current_year - year_of_birth \n",
    "age = int(current_year) - int(year_of_birth)\n",
    "\n",
    "print(\"Age:\", age)"
   ]
  },
  {
   "cell_type": "markdown",
   "id": "291d9f0e-b9ef-4071-ad7d-9458f6428888",
   "metadata": {},
   "source": [
    "### Reflection 4\n",
    "\n",
    "Explain the need to cast objects returned by the function `input`.\n",
    "\n",
    "**Your Response**"
   ]
  },
  {
   "cell_type": "markdown",
   "id": "7cf54c69-389f-4110-968c-1971b53b7c58",
   "metadata": {},
   "source": [
    "this is because the input function returns a string, and if you try to perform mathematical operations on it, it will not work."
   ]
  },
  {
   "cell_type": "markdown",
   "id": "343369a8-b3ba-4a6f-9de1-e7e7728fc5e5",
   "metadata": {},
   "source": [
    "## Programming Exercise"
   ]
  },
  {
   "cell_type": "markdown",
   "id": "6d9feaad-53db-42c5-8a17-e251375df326",
   "metadata": {},
   "source": [
    "### Question 1\n",
    "\n",
    "Write a program that get the length and width of a rectangle from user.\n",
    "Calculate and display the area and perimeter of the rectangle.\n",
    "\n",
    "Sample output:\n",
    "```\n",
    "length:  10\n",
    "width:  8\n",
    "The area is 80.0 and perimeter is 36.0.\n",
    "```"
   ]
  },
  {
   "cell_type": "markdown",
   "id": "e801bf64-ef8d-4c54-98ad-a9195f34eab9",
   "metadata": {},
   "source": [
    "1 (a) Write the statements to accept the length and width of the rectangle. You should remember to cast the returned values into appropriate data types."
   ]
  },
  {
   "cell_type": "code",
   "execution_count": null,
   "id": "e65ff36b-364c-4245-b2d8-82e1cc200658",
   "metadata": {},
   "outputs": [
    {
     "name": "stdout",
     "output_type": "stream",
     "text": [
      "The area is 80.0 and the perimeter is 36.0\n"
     ]
    }
   ],
   "source": [
    "# Code\n",
    "length = input(\"length: \")\n",
    "width = input(\"width: \")\n"
   ]
  },
  {
   "cell_type": "markdown",
   "id": "b7aacd5f-fc9a-420b-aa57-7734168e85c0",
   "metadata": {},
   "source": [
    "1 (b) Compute the area and perimeter of the rectangle."
   ]
  },
  {
   "cell_type": "code",
   "execution_count": null,
   "id": "ade4ce25-4c6a-4ec1-aa46-01f3aa816ae2",
   "metadata": {},
   "outputs": [],
   "source": [
    "# Code\n",
    "float(area) = int(length) * int(width)\n",
    "float(perimeter) = 2 * (int(length) + int(width))"
   ]
  },
  {
   "cell_type": "markdown",
   "id": "22bf13e2-f29f-4aa7-b1e6-364c6dde4be0",
   "metadata": {},
   "source": [
    "1 (c) Print out the area and perimeter of the rectangle in a single statement."
   ]
  },
  {
   "cell_type": "code",
   "execution_count": null,
   "id": "a46a24d3-6683-43ec-97e3-6e26676a464d",
   "metadata": {},
   "outputs": [],
   "source": [
    "# Code\n",
    "print(\"The area is\", area, \"and the perimeter is\", perimeter)"
   ]
  },
  {
   "cell_type": "markdown",
   "id": "71824aec-534f-4da1-8d51-187d040b287a",
   "metadata": {},
   "source": [
    "### Question 2\n",
    "\n",
    "Write a program to display the amount each person needs to pay in a meal.\n",
    "\n",
    "Sample output:\n",
    "```\n",
    "Cost of meal: 38\n",
    "Number of people: 3\n",
    "Service charge (%): 10\n",
    "GST (%): 9\n",
    "Cost payable per pax:  15.187333333333333\n",
    "```"
   ]
  },
  {
   "cell_type": "markdown",
   "id": "a82be763-6e18-4ac4-9c86-8082d1c738ac",
   "metadata": {},
   "source": [
    "2(a) Write the statements to accept the following values:\n",
    "\n",
    "* Cost ($)\n",
    "* Number of people\n",
    "* Service charge (%)\n",
    "* GST (%)"
   ]
  },
  {
   "cell_type": "code",
   "execution_count": null,
   "id": "7b242784-69e0-4bc9-8004-196858c15e49",
   "metadata": {},
   "outputs": [],
   "source": [
    "# Code\n",
    "cost = float(input(\"Cost of meal: 38\"))\n",
    "people = int(input(\"Number of people: \"))\n",
    "serviceCharge = float(input(\"Service charge: \"))\n",
    "gst = float(input(\"GST : \"))"
   ]
  },
  {
   "cell_type": "markdown",
   "id": "f1492360-06b9-43cd-b202-1d1863038b96",
   "metadata": {},
   "source": [
    "2 (b) Write the code to compute\n",
    "\n",
    "* service charge from the meal cost.\n",
    "* GST from the meal cost and service charge."
   ]
  },
  {
   "cell_type": "code",
   "execution_count": null,
   "id": "456cdf66-9fbd-44d5-9946-4429850e2c03",
   "metadata": {},
   "outputs": [
    {
     "ename": "TypeError",
     "evalue": "unsupported operand type(s) for /: 'str' and 'int'",
     "output_type": "error",
     "traceback": [
      "\u001b[0;31m---------------------------------------------------------------------------\u001b[0m",
      "\u001b[0;31mTypeError\u001b[0m                                 Traceback (most recent call last)",
      "Cell \u001b[0;32mIn[1], line 5\u001b[0m\n\u001b[1;32m      3\u001b[0m serviceCharge \u001b[38;5;241m=\u001b[39m \u001b[38;5;28minput\u001b[39m(\u001b[38;5;124m\"\u001b[39m\u001b[38;5;124mService charge: \u001b[39m\u001b[38;5;124m\"\u001b[39m)\n\u001b[1;32m      4\u001b[0m gst \u001b[38;5;241m=\u001b[39m \u001b[38;5;28minput\u001b[39m(\u001b[38;5;124m\"\u001b[39m\u001b[38;5;124mGST : \u001b[39m\u001b[38;5;124m\"\u001b[39m)\n\u001b[0;32m----> 5\u001b[0m serviceChargeCost \u001b[38;5;241m=\u001b[39m \u001b[43mcost\u001b[49m\u001b[38;5;241;43m/\u001b[39;49m\u001b[38;5;241;43m100\u001b[39;49m\u001b[38;5;241m*\u001b[39mserviceCharge\n\u001b[1;32m      6\u001b[0m gstCost \u001b[38;5;241m=\u001b[39m serviceChargeCost \u001b[38;5;241m/\u001b[39m\u001b[38;5;241m100\u001b[39m \u001b[38;5;241m*\u001b[39m gst\n",
      "\u001b[0;31mTypeError\u001b[0m: unsupported operand type(s) for /: 'str' and 'int'"
     ]
    }
   ],
   "source": [
    "serviceChargeCost = cost/100*serviceCharge\n",
    "gstCost = (serviceChargeCost + cost) /100 * gst"
   ]
  },
  {
   "cell_type": "markdown",
   "id": "ba206cde-018a-49b1-aa6c-48e25b42dbce",
   "metadata": {},
   "source": [
    "2 (c) Write the code the compute the total cost payable for the meal."
   ]
  },
  {
   "cell_type": "code",
   "execution_count": 3,
   "id": "fe4af345-03e1-47e9-ae85-0decd2bbbb58",
   "metadata": {},
   "outputs": [
    {
     "ename": "ValueError",
     "evalue": "invalid literal for int() with base 10: ''",
     "output_type": "error",
     "traceback": [
      "\u001b[0;31m---------------------------------------------------------------------------\u001b[0m",
      "\u001b[0;31mValueError\u001b[0m                                Traceback (most recent call last)",
      "Cell \u001b[0;32mIn[3], line 1\u001b[0m\n\u001b[0;32m----> 1\u001b[0m finalCost \u001b[38;5;241m=\u001b[39m \u001b[38;5;28;43mint\u001b[39;49m\u001b[43m(\u001b[49m\u001b[43mcost\u001b[49m\u001b[43m)\u001b[49m \u001b[38;5;241m+\u001b[39m \u001b[38;5;28mint\u001b[39m(gstCost) \u001b[38;5;241m+\u001b[39m \u001b[38;5;28mint\u001b[39m(serviceChargeCost)\n",
      "\u001b[0;31mValueError\u001b[0m: invalid literal for int() with base 10: ''"
     ]
    }
   ],
   "source": [
    "finalCost = int(cost) + int(gstCost) + int(serviceChargeCost)\n"
   ]
  },
  {
   "cell_type": "markdown",
   "id": "407ddd9e-ba77-4aaf-b461-05b2b4a83f59",
   "metadata": {},
   "source": [
    "2 (d) Print the cost payable by each person."
   ]
  },
  {
   "cell_type": "code",
   "execution_count": 2,
   "id": "effc49f8-c803-42e4-b10d-201e14d50272",
   "metadata": {},
   "outputs": [
    {
     "ename": "NameError",
     "evalue": "name 'finalCost' is not defined",
     "output_type": "error",
     "traceback": [
      "\u001b[0;31m---------------------------------------------------------------------------\u001b[0m",
      "\u001b[0;31mNameError\u001b[0m                                 Traceback (most recent call last)",
      "Cell \u001b[0;32mIn[2], line 1\u001b[0m\n\u001b[0;32m----> 1\u001b[0m costPayablePerPerson \u001b[38;5;241m=\u001b[39m \u001b[43mfinalCost\u001b[49m\u001b[38;5;241m/\u001b[39m\u001b[38;5;28mint\u001b[39m(people)\n\u001b[1;32m      2\u001b[0m \u001b[38;5;28mprint\u001b[39m(costPayablePerPerson)\n",
      "\u001b[0;31mNameError\u001b[0m: name 'finalCost' is not defined"
     ]
    }
   ],
   "source": [
    "costPayablePerPerson = finalCost/int(people)\n",
    "print(costPayablePerPerson)"
   ]
  }
 ],
 "metadata": {
  "kernelspec": {
   "display_name": "Python 3",
   "language": "python",
   "name": "python3"
  },
  "language_info": {
   "codemirror_mode": {
    "name": "ipython",
    "version": 3
   },
   "file_extension": ".py",
   "mimetype": "text/x-python",
   "name": "python",
   "nbconvert_exporter": "python",
   "pygments_lexer": "ipython3",
   "version": "3.12.4"
  }
 },
 "nbformat": 4,
 "nbformat_minor": 5
}
