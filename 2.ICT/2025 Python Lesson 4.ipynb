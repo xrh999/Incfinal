{
 "cells": [
  {
   "cell_type": "markdown",
   "id": "b28ff480-11e0-4208-98ad-be34c45bb8c9",
   "metadata": {},
   "source": [
    "# Repetitions 1"
   ]
  },
  {
   "cell_type": "markdown",
   "id": "83936737-7994-4d22-a94c-fef0c61cc779",
   "metadata": {},
   "source": [
    "## for-in\n",
    "`for-in` statement is use when the actual sequence is known. It will traverse through the sequence in order (ascending or descending).\n",
    "The basic `for-in` syntax:  \n",
    "`for item in sequence:`  \n",
    "`    codes to be executed for item`\n",
    "\n",
    "The two basic sequences covered will be integer and text.   \n",
    "  "
   ]
  },
  {
   "cell_type": "markdown",
   "id": "5027b551-f276-4ebc-9fbd-7da17bfa62cd",
   "metadata": {},
   "source": [
    "### Integer sequence\n",
    "\n",
    "Using the `range()` built-in function, a range of integers can be generate.  \n",
    "The basic syntax:  \n",
    "1.`range(stop)`  \n",
    "2.`range(start, stop[, step])`\n",
    "\n",
    "*start*  \n",
    ">The value of the start parameter (or 0 if the parameter was not supplied)\n",
    "\n",
    "*stop*  \n",
    ">The value of the stop parameter\n",
    "\n",
    "*step*  \n",
    ">The value of the step parameter (or 1 if the parameter was not supplied)\n"
   ]
  },
  {
   "cell_type": "markdown",
   "id": "5149170c-3bea-466d-a6a1-3bf03e27342f",
   "metadata": {},
   "source": [
    "#### Example 1"
   ]
  },
  {
   "cell_type": "code",
   "execution_count": null,
   "id": "64c5ed27-5dcd-469b-a9d8-bb44a228bfb8",
   "metadata": {},
   "outputs": [
    {
     "name": "stdout",
     "output_type": "stream",
     "text": [
      "0 1 2 3 4 5 6 7 8 9 \n"
     ]
    }
   ],
   "source": [
    "for i in range(10):\n",
    "    print(i, end = \" \")\n",
    "print()"
   ]
  },
  {
   "cell_type": "markdown",
   "id": "31a58244-7a73-4b9b-ae10-bf42b53b02bb",
   "metadata": {},
   "source": [
    "#### Example 2"
   ]
  },
  {
   "cell_type": "code",
   "execution_count": 2,
   "id": "e6ff1368-e3bf-4feb-ba24-2680b6d938ce",
   "metadata": {},
   "outputs": [
    {
     "name": "stdout",
     "output_type": "stream",
     "text": [
      "-10 -9 -8 -7 -6 -5 -4 -3 -2 -1 0 1 2 3 4 5 6 7 8 9 \n"
     ]
    }
   ],
   "source": [
    "for i in range(-10, 10):\n",
    "    print(i, end = \" \")\n",
    "print()"
   ]
  },
  {
   "cell_type": "markdown",
   "id": "251c82d0-2fbc-4587-a917-a3ff341bc654",
   "metadata": {},
   "source": [
    "#### Example 3"
   ]
  },
  {
   "cell_type": "code",
   "execution_count": 3,
   "id": "16c0136d-1920-4055-8111-cf7db91f9a92",
   "metadata": {},
   "outputs": [
    {
     "name": "stdout",
     "output_type": "stream",
     "text": [
      "-10 -8 -6 -4 -2 0 2 4 6 8 \n"
     ]
    }
   ],
   "source": [
    "for i in range(-10, 10, 2):\n",
    "    print(i, end = \" \")\n",
    "print()"
   ]
  },
  {
   "cell_type": "markdown",
   "id": "b3c110fc-44b6-44a8-82d8-2b4b548ea235",
   "metadata": {},
   "source": [
    "#### Reflection 1\n",
    "\n",
    "Describe what you learnt about the function `range()` from Examples 1, 2 and 3. \n",
    "\n",
    "**Your Response**"
   ]
  },
  {
   "cell_type": "markdown",
   "id": "a5a40791-452b-4f76-b583-065651a3f825",
   "metadata": {},
   "source": [
    "range(first number it goes through, last number it goes to + 1, gap i)"
   ]
  },
  {
   "cell_type": "markdown",
   "id": "34ea80a9-b9e7-4fc3-be02-70ea0da083cd",
   "metadata": {},
   "source": [
    "### Text Sequence\n",
    "\n",
    "A text sequence is a string data type. `for-in` can be use to tranverse each letter of the string."
   ]
  },
  {
   "cell_type": "markdown",
   "id": "8ccb2196-9ce9-4471-991c-46008f975357",
   "metadata": {},
   "source": [
    "#### Example 4\n",
    "\n",
    "This example shows how individul characters in a string data type can be extracted. Any non-alphabetical character is removed."
   ]
  },
  {
   "cell_type": "code",
   "execution_count": null,
   "id": "9c25e015-7419-455f-8bc2-2399a350cc10",
   "metadata": {},
   "outputs": [],
   "source": [
    "mytext = \"Hello World!\"\n",
    "stripped_text = \"\"\n",
    "\n",
    "for ch in mytext:\n",
    "    if ch.isalpha():\n",
    "        stripped_text += ch\n",
    "print(stripped_text)"
   ]
  },
  {
   "cell_type": "markdown",
   "id": "68306dbd-bb08-4170-9d9b-974910313e58",
   "metadata": {},
   "source": [
    "### Application of `for-in`\n",
    "\n",
    "`for-in` is very useful for performing a procedure for a **known** fixed number of repetitions. "
   ]
  },
  {
   "cell_type": "markdown",
   "id": "38e39ea2-3bd7-4c08-b3f5-8838b37aa9d2",
   "metadata": {},
   "source": [
    "#### Example 5\n",
    "\n",
    "Counting is very common used in repetitions. This is shown in Example 5."
   ]
  },
  {
   "cell_type": "code",
   "execution_count": null,
   "id": "d4e18a30-3d47-4e09-aec8-36c989ed9303",
   "metadata": {},
   "outputs": [],
   "source": [
    "total = 0\n",
    "max = 10\n",
    "\n",
    "for i in range(1,max + 1):\n",
    "    total = total + i\n",
    "\n",
    "print(\"The sum of numbers from 1 to\", max, \"is\", total)\n"
   ]
  },
  {
   "cell_type": "markdown",
   "id": "f8d69cca-ade1-47ee-8846-69905147eef1",
   "metadata": {},
   "source": [
    "### Exercise 1 a\n",
    "\n",
    "Write a program to count the number of characters, including spaces, in a string.\n",
    "\n",
    "Use this paragraph as a sample to test your code.\n",
    "\n",
    "> Alice was beginning to get very tired of sitting by her sister on the bank, and of having nothing to do: once or twice she had peeped into the book her sister was reading, but it had no pictures or conversations in it, “and what is the use of a book,” thought Alice “without pictures or conversation?”"
   ]
  },
  {
   "cell_type": "code",
   "execution_count": null,
   "id": "768ce71f-5549-4227-9fd7-adc6a304ed09",
   "metadata": {},
   "outputs": [],
   "source": [
    "# Code\n",
    "count = 0\n",
    "para= \"Alice was beginning to get very tired of sitting by her sister on the bank, and of having nothing to do: once or twice she had peeped into the book her sister was reading, but it had no pictures or conversations in it, “and what is the use of a book,” thought Alice “without pictures or conversation?”\"\n",
    "for i in para:\n",
    "    count +=1\n",
    "print(count)"
   ]
  },
  {
   "cell_type": "markdown",
   "id": "ed587154-bd97-4fe9-b0c1-bbfacaf2041f",
   "metadata": {},
   "source": [
    "#### Exercise 1b\n",
    "\n",
    "Modify your solution in 1a to count the number of words in the string."
   ]
  },
  {
   "cell_type": "code",
   "execution_count": null,
   "id": "db673c36-1ed6-4afb-b60b-63961ac17fda",
   "metadata": {},
   "outputs": [],
   "source": [
    "# Code\n",
    "blank = 0\n",
    "for i in para:\n",
    "    if i == \" \":\n",
    "        blank += 1\n",
    "print(blank + 1)"
   ]
  },
  {
   "cell_type": "markdown",
   "id": "8c6e073d-84d7-4286-850e-e0a8f9c08f85",
   "metadata": {},
   "source": [
    "### Loop inside a loop¶\n",
    "\n",
    "A loop can contain loop(s) within its iterated code.  \n",
    "\n",
    "`for a in range(10):`    #Loop_A  \n",
    "`    for b in range(8):`  #Loop_B  \n",
    "`        print(\"*\")`  \n",
    "The above example contains two for-loops, it is commonly known as \"double for-loops\"\n",
    "\n",
    "Loop_A repeats 10 times, and for each repeat, it will run Loop_B 8 times.  \n",
    "Hence, 80 `*` will be printed. Loop_A * Loop_B (10 * 8 = 80).  \n",
    "\n",
    "### Double Loops\n",
    "Double loops (`for` or `while`) are commonly use to traverse over a table, grid.  \n",
    "\n",
    "Consider the following image made up of the letter x:  \n",
    "xxxxxx  \n",
    "xxxxxx  \n",
    "xxxxxx  \n",
    "xxxxxx  \n",
    "xxxxxx  \n",
    "\n",
    "1. There are a total of 5 rows, and each row has 6 x's (columns)  \n",
    "2. there are a total 6 columns and each column has 5 x's (rows)\n",
    "\n",
    "Because Python print in a left to right, then top to bottom order, it make more programming sense to use the first statement.  \n",
    "> There are a total of 5 rows, and each row has 6 x's (columns)  "
   ]
  },
  {
   "cell_type": "markdown",
   "id": "505b2521-713a-4322-92eb-763671f0b21f",
   "metadata": {},
   "source": [
    "#### Exercise 1\n",
    "\n",
    "Write a program to:\n",
    "Ask user for an integer, n.\n",
    "Display a square of n by n of \"*\"\n",
    "Eg. n = 5\n",
    "\n",
    "\\* * * * * \\\n",
    "\\* * * * * \\\n",
    "\\* * * * * \\\n",
    "\\* * * * * \\\n",
    "\\* * * * * "
   ]
  },
  {
   "cell_type": "code",
   "execution_count": null,
   "id": "c24b9611-60aa-4b0a-a397-10918e6c23a0",
   "metadata": {},
   "outputs": [
    {
     "name": "stdout",
     "output_type": "stream",
     "text": [
      "*****\n",
      "*****\n",
      "*****\n",
      "*****\n",
      "*****\n"
     ]
    }
   ],
   "source": [
    "# Code\n",
    "n = input(\"Please enter an integer: \")\n",
    "for i in range(n):\n",
    "    print(\"*\"*n)\n"
   ]
  },
  {
   "cell_type": "markdown",
   "id": "53ce04c4-0cff-4b05-8383-82a9427aed0b",
   "metadata": {},
   "source": [
    "#### Exercise 2\n",
    "\n",
    "Write a program that asks for a positive integer n, and print out the following shape:\n",
    "\n",
    "Output:\\\n",
    "\n",
    "\\* \\\n",
    "\\** \\\n",
    "\\*** \\\n",
    "\\**** \\\n",
    "\\*****"
   ]
  },
  {
   "cell_type": "code",
   "execution_count": null,
   "id": "e769018b-e9ea-4ad9-8ada-223f43b38dcd",
   "metadata": {},
   "outputs": [
    {
     "name": "stdout",
     "output_type": "stream",
     "text": [
      "\n",
      "*\n",
      "**\n",
      "***\n",
      "****\n",
      "*****\n"
     ]
    }
   ],
   "source": [
    "# Code\n",
    "n = input(\"Please enter an integer: \")\n",
    "for i in range(n+1):\n",
    "    print(\"*\"*i)\n",
    "    "
   ]
  },
  {
   "cell_type": "markdown",
   "id": "7f4107ae-d9e4-4f6a-b62f-2d5b53543125",
   "metadata": {},
   "source": [
    "## Programming Exercises"
   ]
  },
  {
   "cell_type": "markdown",
   "id": "c88252a9-ffc7-4b9b-8139-f11f30ad24d9",
   "metadata": {},
   "source": [
    "### Question 1\n",
    "\n",
    "Ask the user to provide a positive integer.\n",
    "\n",
    "Print out all the even numbers less than this positive number.."
   ]
  },
  {
   "cell_type": "code",
   "execution_count": 13,
   "id": "fd7c4556-be1b-4138-9d76-442cad41ae05",
   "metadata": {},
   "outputs": [
    {
     "name": "stdout",
     "output_type": "stream",
     "text": [
      "0\t2\t4\t6\t8\t10\t12\t14\t16\t18\t20\t\n"
     ]
    }
   ],
   "source": [
    "# Code\n",
    "integer = int(input(\"Enter a positive integer:\"))\n",
    "\n",
    "for i in range(integer):\n",
    "    if i % 2 == 0:\n",
    "        print(i, end = \"\\t\")\n",
    "print()"
   ]
  },
  {
   "cell_type": "markdown",
   "id": "8324cf92-dd58-4968-a8fd-350f9426e555",
   "metadata": {},
   "source": [
    "### Question 2\n",
    "\n",
    "Using `for-in` to determine the number of vowels in a string.\n",
    "You may use the first paragraph of Alice in Wonderland (Example 1)."
   ]
  },
  {
   "cell_type": "code",
   "execution_count": 14,
   "id": "3c596842-b5a5-46e6-9ab5-2bd7348fd304",
   "metadata": {},
   "outputs": [
    {
     "name": "stdout",
     "output_type": "stream",
     "text": [
      "Vowels: 93\n"
     ]
    }
   ],
   "source": [
    "# Code\n",
    "\n",
    "my_text = 'Alice was beginning to get very tired of sitting by her sister on the bank, and of having nothing to do: once or twice she had peeped into the book her sister was reading, but it had no pictures or conversations in it, “and what is the use of a book,” thought Alice “without pictures or conversation?\"'\n",
    "count = 0\n",
    "vowels = \"aeiouAEIOU\" # Students may not know about searching for char in string. \n",
    "\n",
    "for ch in my_text:\n",
    "    if ch in vowels:\n",
    "        count += 1\n",
    "\n",
    "print(\"Vowels:\", count)"
   ]
  },
  {
   "cell_type": "markdown",
   "id": "4b23bdfd-6eb3-480c-9bf3-a530045f658b",
   "metadata": {},
   "source": [
    "### Question 3\n",
    "\n",
    "Write a Python program that ask for 5 positive numbers.\n",
    "\n",
    "Print out the highest number.\n"
   ]
  },
  {
   "cell_type": "code",
   "execution_count": 17,
   "id": "a1c3c98c-30e9-45f5-981d-0034ff1fe372",
   "metadata": {},
   "outputs": [
    {
     "name": "stdout",
     "output_type": "stream",
     "text": [
      "Highest number: 5\n"
     ]
    }
   ],
   "source": [
    "# Code\n",
    "# Solution 1\n",
    "number = 0\n",
    "max = -1\n",
    "\n",
    "for i in range(5):\n",
    "    number = int(input(\"Enter an integer:\"))\n",
    "    if number > max:\n",
    "        max = number\n",
    "\n",
    "print(\"Highest number:\", max)"
   ]
  },
  {
   "cell_type": "code",
   "execution_count": 20,
   "id": "5407f767-9511-4f56-81ea-d97b48dc4d00",
   "metadata": {},
   "outputs": [
    {
     "name": "stdout",
     "output_type": "stream",
     "text": [
      "5\n"
     ]
    }
   ],
   "source": [
    "# Solution 2\n",
    "numbers = []\n",
    "\n",
    "for i in range(5):\n",
    "    number = int(input(\"Enter an integer:\"))\n",
    "    numbers.append(number)\n",
    "\n",
    "numbers = sorted(numbers)\n",
    "print(numbers[4])\n"
   ]
  }
 ],
 "metadata": {
  "kernelspec": {
   "display_name": "Python 3",
   "language": "python",
   "name": "python3"
  },
  "language_info": {
   "codemirror_mode": {
    "name": "ipython",
    "version": 3
   },
   "file_extension": ".py",
   "mimetype": "text/x-python",
   "name": "python",
   "nbconvert_exporter": "python",
   "pygments_lexer": "ipython3",
   "version": "3.12.4"
  }
 },
 "nbformat": 4,
 "nbformat_minor": 5
}
