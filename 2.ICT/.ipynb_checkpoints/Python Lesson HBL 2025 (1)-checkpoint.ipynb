{
 "cells": [
  {
   "cell_type": "markdown",
   "id": "b28ff480-11e0-4208-98ad-be34c45bb8c9",
   "metadata": {},
   "source": [
    "# Home-Based Learning"
   ]
  },
  {
   "cell_type": "markdown",
   "id": "e801bf64-ef8d-4c54-98ad-a9195f34eab9",
   "metadata": {},
   "source": [
    "## Question 1: Multiple of 4.\n",
    "\n",
    "Write a Python program that prompts the user to enter an integer. The program should check if the number is a multiple of 4."
   ]
  },
  {
   "cell_type": "code",
   "execution_count": 44,
   "id": "17d91ae2-dc6f-41c1-a0a3-085d015ca050",
   "metadata": {},
   "outputs": [
    {
     "ename": "TypeError",
     "evalue": "'str' object is not callable",
     "output_type": "error",
     "traceback": [
      "\u001b[0;31m---------------------------------------------------------------------------\u001b[0m",
      "\u001b[0;31mTypeError\u001b[0m                                 Traceback (most recent call last)",
      "Cell \u001b[0;32mIn[44], line 2\u001b[0m\n\u001b[1;32m      1\u001b[0m \u001b[38;5;66;03m# Code\u001b[39;00m\n\u001b[0;32m----> 2\u001b[0m num \u001b[38;5;241m=\u001b[39m \u001b[38;5;28mint\u001b[39m(\u001b[38;5;28;43minput\u001b[39;49m\u001b[43m(\u001b[49m\u001b[38;5;124;43m\"\u001b[39;49m\u001b[38;5;124;43mPlease enter a number: \u001b[39;49m\u001b[38;5;124;43m\"\u001b[39;49m\u001b[43m)\u001b[49m)\n\u001b[1;32m      3\u001b[0m \u001b[38;5;28;01mif\u001b[39;00m num \u001b[38;5;241m%\u001b[39m \u001b[38;5;241m4\u001b[39m \u001b[38;5;241m==\u001b[39m \u001b[38;5;241m0\u001b[39m:\n\u001b[1;32m      4\u001b[0m     \u001b[38;5;28mprint\u001b[39m(\u001b[38;5;124m\"\u001b[39m\u001b[38;5;124mThis number is a multiple of 4\u001b[39m\u001b[38;5;124m\"\u001b[39m)\n",
      "\u001b[0;31mTypeError\u001b[0m: 'str' object is not callable"
     ]
    }
   ],
   "source": [
    "# Code\n",
    "num = int(input(\"Please enter a number: \"))\n",
    "if num % 4 == 0:\n",
    "    print(\"This number is a multiple of 4\")\n",
    "else:\n",
    "    print(\"This number is not a multiple of 4\")"
   ]
  },
  {
   "cell_type": "markdown",
   "id": "65e79d09-c682-44a2-a925-666ff370c71d",
   "metadata": {},
   "source": [
    "## Question 2: Simple Login System\n",
    "\n",
    "Problem Statement:\n",
    "Write a Python program that asks the user to enter a username and password. The correct username is \"admin\" and the correct password is \"secure123\". The program should check if both inputs are correct. If they are, print \"Login successful!\". Otherwise, print \"Invalid credentials.\".\n",
    "\n",
    "**Example 1**\n",
    "\n",
    "Enter username: admin\\\n",
    "Enter password: secure123\\\n",
    "Login successful!\n",
    "\n",
    "**Example 2**\n",
    "\n",
    "Enter username: admin\\\n",
    "Enter password: foobar123\\\n",
    "Login failed!\n",
    "\n",
    "**Example 3**\n",
    "\n",
    "Enter username: foobar\\\n",
    "Enter password: secure123\\\n",
    "Login failed!"
   ]
  },
  {
   "cell_type": "code",
   "execution_count": 45,
   "id": "0345162a-7c3e-41d8-9de3-e3cb696fdb32",
   "metadata": {},
   "outputs": [
    {
     "ename": "TypeError",
     "evalue": "'str' object is not callable",
     "output_type": "error",
     "traceback": [
      "\u001b[0;31m---------------------------------------------------------------------------\u001b[0m",
      "\u001b[0;31mTypeError\u001b[0m                                 Traceback (most recent call last)",
      "Cell \u001b[0;32mIn[45], line 2\u001b[0m\n\u001b[1;32m      1\u001b[0m \u001b[38;5;66;03m# Code\u001b[39;00m\n\u001b[0;32m----> 2\u001b[0m user \u001b[38;5;241m=\u001b[39m \u001b[38;5;28;43minput\u001b[39;49m\u001b[43m(\u001b[49m\u001b[38;5;124;43m\"\u001b[39;49m\u001b[38;5;124;43mPlease enter your username: \u001b[39;49m\u001b[38;5;124;43m\"\u001b[39;49m\u001b[43m)\u001b[49m\n\u001b[1;32m      3\u001b[0m pas \u001b[38;5;241m=\u001b[39m \u001b[38;5;28minput\u001b[39m(\u001b[38;5;124m\"\u001b[39m\u001b[38;5;124mPlease enter yout password \u001b[39m\u001b[38;5;124m\"\u001b[39m)\n\u001b[1;32m      4\u001b[0m \u001b[38;5;28;01mif\u001b[39;00m user \u001b[38;5;241m==\u001b[39m \u001b[38;5;124m\"\u001b[39m\u001b[38;5;124madmin\u001b[39m\u001b[38;5;124m\"\u001b[39m \u001b[38;5;129;01mand\u001b[39;00m pas \u001b[38;5;241m==\u001b[39m \u001b[38;5;124m\"\u001b[39m\u001b[38;5;124msecure123\u001b[39m\u001b[38;5;124m\"\u001b[39m:\n",
      "\u001b[0;31mTypeError\u001b[0m: 'str' object is not callable"
     ]
    }
   ],
   "source": [
    "# Code\n",
    "user = input(\"Please enter your username: \")\n",
    "pas = input(\"Please enter yout password \")\n",
    "if user == \"admin\" and pas == \"secure123\":\n",
    "    print(\"Login successful!\")\n",
    "else:\n",
    "    print(\"Login failed!\")"
   ]
  },
  {
   "cell_type": "markdown",
   "id": "ad2d50a8-29b3-4624-b519-fd568304c16f",
   "metadata": {},
   "source": [
    "## Question 3\n",
    "\n",
    "Write a Python program that converts a temperature from Celsius to Fahrenheit or vice versa. The user should enter:\n",
    "\n",
    "- The temperature value\n",
    "- A character indicating the conversion (\"C\" for Celsius to Fahrenheit, \"F\" for Fahrenheit to Celsius)\n",
    "\n",
    "Use the following formulas:\n",
    "\n",
    "- Celsius to Fahrenheit: F = (C × 9/5) + 32\n",
    "- Fahrenheit to Celsius: C = (F - 32) × 5/9\n",
    "\n",
    "If the user enters an invalid option, display an error message.\n",
    "\n",
    "**Example 1**\n",
    "\n",
    "Enter temperature: 25\\\n",
    "Convert to (C/F): F\\\n",
    "25°C is equal to 77.0°F.\n",
    "\n",
    "**Example 2**\n",
    "\n",
    "Enter temperature: 40\\\n",
    "Convert to (C/F): X\\\n",
    "Invalid conversion option.\n"
   ]
  },
  {
   "cell_type": "code",
   "execution_count": null,
   "id": "68f77fa3-2e16-4791-88c9-c16f04c4d652",
   "metadata": {},
   "outputs": [],
   "source": [
    "# Code\n",
    "temp = input(\"Please enter your temperature\")\n",
    "CorF = input(\"Please input a character indicating the conversion ('C' for Celsius to Fahrenheit, 'F' for Fahrenheit to Celsius)\")\n",
    "ans = None\n",
    "if CorF == \"C\":\n",
    "    ans = (temp * 9/5)+32\n",
    "elif CorF == \"F\":\n",
    "    ans = (temp -32)*5/9\n",
    "else:\n",
    "    print(\"please enter a valid input\")"
   ]
  },
  {
   "cell_type": "markdown",
   "id": "3bc52c97-6f74-4894-b087-21b9a8a5a205",
   "metadata": {},
   "source": [
    "## Question 4\n",
    "\n",
    "Write a Python program that asks the user to enter a year and determines whether it is a leap year.\n",
    "A year is a leap year if:\n",
    "\n",
    "- It is divisible by 4, AND\n",
    "- It is not divisible by 100, UNLESS it is also divisible by 400.\n",
    "\n",
    "**Example 1**\n",
    "\n",
    "Enter the year: 2000\\\n",
    "2000 is a leap year.\n",
    "\n",
    "**Example 2**\n",
    "\n",
    "Enter the year: 1900\\\n",
    "1900 is not a leap year.\n",
    "\n",
    "**Example 3**\n",
    "\n",
    "Enter the year: 2024\\\n",
    "2024 is a leap year."
   ]
  },
  {
   "cell_type": "code",
   "execution_count": null,
   "id": "2197d29d-430c-4037-872c-e4c96962863a",
   "metadata": {},
   "outputs": [],
   "source": [
    "# Code\n",
    "year = input(\"Enter the year: \")\n",
    "\n",
    "if (year % 4 == 0 and year % 100 != 0) or (year % 400 == 0):\n",
    "    print(\"That year is a leap year.\")\n",
    "else:\n",
    "    print(\"That year is not a leap year.\")\n"
   ]
  }
 ],
 "metadata": {
  "kernelspec": {
   "display_name": "Python 3",
   "language": "python",
   "name": "python3"
  },
  "language_info": {
   "codemirror_mode": {
    "name": "ipython",
    "version": 3
   },
   "file_extension": ".py",
   "mimetype": "text/x-python",
   "name": "python",
   "nbconvert_exporter": "python",
   "pygments_lexer": "ipython3",
   "version": "3.12.4"
  }
 },
 "nbformat": 4,
 "nbformat_minor": 5
}
