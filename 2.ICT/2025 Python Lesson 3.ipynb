{
 "cells": [
  {
   "cell_type": "markdown",
   "id": "b28ff480-11e0-4208-98ad-be34c45bb8c9",
   "metadata": {},
   "source": [
    "# Conditional Statements"
   ]
  },
  {
   "cell_type": "markdown",
   "id": "83936737-7994-4d22-a94c-fef0c61cc779",
   "metadata": {},
   "source": [
    "## Logical Conditions\n",
    "Logical conditions are expressions that evaluate to a `True` or `False` using operators. Below are logical operators that are used to compare two values and evaluate the results to `True` or `False`.\n",
    "\n",
    "* Equals: a == b\n",
    "* Not Equals: a != b\n",
    "* Less than: a < b\n",
    "* Less than or equal to: a <= b\n",
    "* Greater than: a > b\n",
    "* Greater than or equal to: a >= b\n",
    "  "
   ]
  },
  {
   "cell_type": "markdown",
   "id": "b3c110fc-44b6-44a8-82d8-2b4b548ea235",
   "metadata": {},
   "source": [
    "### Reflection 1\n",
    "Statement whether the statements are True or False.\n",
    "\n",
    "1. 2024 < 2024\n",
    "2. 2024 <= 2024\n",
    "3. 75 > 80\n",
    "4. \"Jason\" == 'Jason'\n",
    "5. 25 == 25.0\n",
    "6. 80 != \"80\"\n",
    "7. 10 / 2 == 0\n",
    "8. True\n",
    "9. True == \"True\"\n",
    "\n",
    "After suggesting, run the statements in a code cell to check the answer.\n",
    "\n",
    "**Your Response**"
   ]
  },
  {
   "cell_type": "markdown",
   "id": "a5a40791-452b-4f76-b583-065651a3f825",
   "metadata": {},
   "source": [
    "1. False\n",
    "2. True\n",
    "3. False\n",
    "4. True\n",
    "5. True\n",
    "6. True\n",
    "7. False\n",
    "8. True\n",
    "9. False"
   ]
  },
  {
   "cell_type": "code",
   "execution_count": 1,
   "id": "d863f7da-0ea9-4aed-b3ba-4cdcc94ef5ba",
   "metadata": {},
   "outputs": [
    {
     "name": "stdout",
     "output_type": "stream",
     "text": [
      "False\n",
      "True\n",
      "False\n",
      "True\n",
      "True\n",
      "True\n",
      "False\n",
      "True\n",
      "False\n"
     ]
    }
   ],
   "source": [
    "# Test your answers here.\n",
    "print(2024 < 2024)\n",
    "print(2024 <= 2024)\n",
    "print(75 > 80)\n",
    "print(\"Jason\" == 'Jason')\n",
    "print(25 == 25.0)\n",
    "print(80 != \"80\")\n",
    "print(10 / 2 == 0)\n",
    "print(True)\n",
    "print(True == \"True\")"
   ]
  },
  {
   "cell_type": "markdown",
   "id": "34ea80a9-b9e7-4fc3-be02-70ea0da083cd",
   "metadata": {},
   "source": [
    "## Conditional Statements"
   ]
  },
  {
   "cell_type": "markdown",
   "id": "5ca375cd-97e3-4daa-a3f5-a93be51ae8fb",
   "metadata": {},
   "source": [
    "### `if` Statements\n",
    "Programs make use of conditions to perform decision making. The simplest way to make decision is using `if`."
   ]
  },
  {
   "cell_type": "markdown",
   "id": "b6e2ca1d-e804-4f1f-a396-b0a76d0ecd2d",
   "metadata": {},
   "source": [
    "#### Example 1"
   ]
  },
  {
   "cell_type": "code",
   "execution_count": null,
   "id": "57af4363-b408-42ef-a6e9-a1600be33c73",
   "metadata": {},
   "outputs": [],
   "source": [
    "registration_number = 8\n",
    "\n",
    "print(\"Your registration number is\", registration_number)\n",
    "\n",
    "if registration_number < 10 :\n",
    "    print(\"Please collect your early-bird gift.\")\n"
   ]
  },
  {
   "cell_type": "markdown",
   "id": "8738070f-6627-4712-9025-48ad61f63bdc",
   "metadata": {},
   "source": [
    "#### Example 2"
   ]
  },
  {
   "cell_type": "code",
   "execution_count": null,
   "id": "2d141fe8-7abd-4b14-8a13-c64efefc743d",
   "metadata": {},
   "outputs": [],
   "source": [
    "registration_number = 3\n",
    "\n",
    "print(\"Your number is\", registration_number)\n",
    "\n",
    "if registration_number % 2 == 0:\n",
    "    print(\"You are in Group A\")\n",
    "else:\n",
    "    print(\"You are in Group B\")"
   ]
  },
  {
   "cell_type": "markdown",
   "id": "9e79071c-3961-4fb7-b4d1-2802e29e7ef4",
   "metadata": {},
   "source": [
    "#### Example 3"
   ]
  },
  {
   "cell_type": "code",
   "execution_count": 1,
   "id": "0765f5d6-1074-4d0d-909e-9abcf6a97194",
   "metadata": {},
   "outputs": [
    {
     "name": "stdout",
     "output_type": "stream",
     "text": [
      "The number is 2\n",
      "You are in Group C.\n"
     ]
    }
   ],
   "source": [
    "registration_number = 2\n",
    "\n",
    "print(\"The number is\", registration_number)\n",
    "\n",
    "if registration_number % 3 == 0:\n",
    "    print(\"You are in Group A.\")\n",
    "elif registration_number % 3 == 1:\n",
    "    print(\"You are in Group B.\")\n",
    "else:\n",
    "    print(\"You are in Group C.\")\n",
    "    "
   ]
  },
  {
   "cell_type": "markdown",
   "id": "e9dc5bb2-cf0e-4571-a3c5-f035a9ec3aa9",
   "metadata": {},
   "source": [
    "#### Reflection 2\n",
    "\n",
    "Describe and explain the differences between Examples 1, 2 and 3.\n",
    "\n",
    "**Your Response**"
   ]
  },
  {
   "cell_type": "markdown",
   "id": "245848c9-65bf-4e53-a51c-6bd95919dbfe",
   "metadata": {},
   "source": [
    " example one uses one if state ment\n",
    " example two uses an if else statement\n",
    " example three uses an if else and elif statement"
   ]
  },
  {
   "cell_type": "markdown",
   "id": "033ee977-70c4-4a08-9747-dc18056a7d1b",
   "metadata": {},
   "source": [
    "## Expresssions\n",
    "\n",
    "A logical operator is used inbetween two checks. The logical operation will decide if the expression is `True` or `False`.   \n",
    "- `and` Conjunction : Return `True` if both condition_a and condition_b are true, otherwise, return `False`\n",
    "\n",
    "| condition_a | condition_b | and     |\n",
    "| ----------- | ----------- | --------|\n",
    "| True        | True        | True    |\n",
    "| True        | False       | False   |\n",
    "| False       | True        | False   |\n",
    "| False       | False       | False   |\n",
    "\n",
    "> `condition_a and condition_b`  \n",
    "> `if marks >= 70 and marks < 75:`  \n",
    "> `    grade = \"A2\"`\n",
    "- `or`  Disjunction : Return `True` if either condition_a, condition_b or both condition_a and condition_b are true. If both condition_a and condition_b are false, it returns `False`\n",
    "\n",
    "| condition_a | condition_b | or     |\n",
    "| ----------- | ----------- | --------|\n",
    "| True        | True        | True    |\n",
    "| True        | False       | True   |\n",
    "| False       | True        | True   |\n",
    "| False       | False       | False   |\n",
    "\n",
    "> `condition_a or condtion_b`  \n",
    "> `if math_marks < 50 or like_Python == False:`  \n",
    "> `    print(\"Do not choose CP+ AS\")` \n",
    "- `not` Negate : Return the opposite value of a `bool`.\n",
    "\n",
    "| condition_a | not | \n",
    "| ----------- | ----------- |\n",
    "| True        | False        |\n",
    "| False        | True       |\n",
    "\n",
    "> `not True` will return `False` vice versa"
   ]
  },
  {
   "cell_type": "markdown",
   "id": "525e9627-9956-40d3-9629-0864d2517909",
   "metadata": {},
   "source": [
    "## Programming Exercise"
   ]
  },
  {
   "cell_type": "markdown",
   "id": "4b8d6058-3d24-4c2f-bb5f-68a1f790aa75",
   "metadata": {},
   "source": [
    "### Question 1\n",
    "\n",
    "Write a program that determines whether an integer is even or odd."
   ]
  },
  {
   "cell_type": "markdown",
   "id": "51391b55-765b-465c-b09d-0a98a0ff3d9d",
   "metadata": {},
   "source": [
    "1 (a) Write the code to request the user to provide an integer."
   ]
  },
  {
   "cell_type": "code",
   "execution_count": null,
   "id": "a3900ac8-1551-4016-9164-b140f483033f",
   "metadata": {},
   "outputs": [
    {
     "name": "stdout",
     "output_type": "stream",
     "text": [
      "even\n"
     ]
    }
   ],
   "source": [
    "# Code\n",
    "a =int(input(\"Please enter a number\"))\n",
    "\n"
   ]
  },
  {
   "cell_type": "markdown",
   "id": "7be72a8a-a44b-42e4-af87-f71ffb28df30",
   "metadata": {},
   "source": [
    "1 (b) Using `if-else`, determine and print whether the integer is even or odd."
   ]
  },
  {
   "cell_type": "code",
   "execution_count": null,
   "id": "81e2ddf9-62c7-4d99-b4c2-3ddd74182a43",
   "metadata": {},
   "outputs": [],
   "source": [
    "# Code\n",
    "if a%2== 1:\n",
    "    print(\"odd\")\n",
    "elif a%2 ==0 :\n",
    "    print(\"even\")"
   ]
  },
  {
   "cell_type": "markdown",
   "id": "982f5359-637d-4566-bbba-ee6f6a53df37",
   "metadata": {},
   "source": [
    "### Question 2\n",
    "\n",
    "Write a program that request the user to enter a score between 0 and 100.\n",
    "\n",
    "Your program should print out the equivalent grade according to the table below.\n",
    "\n",
    "| Score | Grade |\n",
    "| ----- | ----- |\n",
    "| 85 - 100 | A |\n",
    "| 70 - 84 | B |\n",
    "| 50 - 69 | C |\n",
    "| 30 - 49 | D |\n",
    "| 0 - 29 | F |\n"
   ]
  },
  {
   "cell_type": "code",
   "execution_count": null,
   "id": "b8d13a69-d4a7-4e95-a0fc-2084955a6d9a",
   "metadata": {},
   "outputs": [
    {
     "name": "stdout",
     "output_type": "stream",
     "text": [
      "Your grade is: A\n"
     ]
    }
   ],
   "source": [
    "# Code\n",
    "a = int(input(\"Enter your score:\"))\n",
    "if a <= 29:\n",
    "    print(\"Your grade is: F\")\n",
    "elif a >= 30 and a <= 49:\n",
    "    print(\"Your grade is: D\")\n",
    "elif a  >= 50 and a <= 69:\n",
    "    print(\"Your grade is: C\")\n",
    "elif a >= 70 and a <= 84:\n",
    "    print(\"Your grade is: B\")\n",
    "elif a>=85 and a <= 100:\n",
    "    print(\"Your grade is: A\")\n",
    "else:\n",
    "    print(\"Please enter your grade\")"
   ]
  }
 ],
 "metadata": {
  "kernelspec": {
   "display_name": "Python 3",
   "language": "python",
   "name": "python3"
  },
  "language_info": {
   "codemirror_mode": {
    "name": "ipython",
    "version": 3
   },
   "file_extension": ".py",
   "mimetype": "text/x-python",
   "name": "python",
   "nbconvert_exporter": "python",
   "pygments_lexer": "ipython3",
   "version": "3.12.4"
  }
 },
 "nbformat": 4,
 "nbformat_minor": 5
}
